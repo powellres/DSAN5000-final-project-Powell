{
 "cells": [
  {
   "cell_type": "markdown",
   "metadata": {},
   "source": [
    "---\n",
    "title: About Me\n",
    "---"
   ]
  },
  {
   "cell_type": "markdown",
   "metadata": {},
   "source": [
    "Powell Sheagren is a current grad student at Georgetown University's Data Science and Analytics program. They graduated in 2022 from Swarthmore College with a degree in Political Science and Mathematics with an Emphasis in Statistics. They are interested in a career in political data science and have pursued volunteer opportunities with groups like Blue Bonnet Data and the Voter Empowerment Project. They are excited to start volunteering again for the 2024 election cycle and hope that the democrats will pick up seats in the house.\n",
    "\n",
    "Powell is from San Diego where they attended Pacific Ridge College Prep School. They took an interest in math and science while being a constant in the school's theater programs. They continued these passions in college by his majors and by acting as the co-coordinator of the Swarthmore Drama Board theater production group. While there, they also got into knitting and started the Swarthmore Upcycling, Crocheting, and Knitting club. \n",
    "\n",
    "Outside of school. Powell is an avid reader and movie buff, to this day they make it a point to go see a movie each month in person to keep track of the field. They are a food buff and hope to start a food blog someday.\n",
    "\n",
    "![\"Picture of Powell Sheagren\"](../images/Powell_Sheagren_Headshot.JPG)"
   ]
  }
 ],
 "metadata": {
  "kernelspec": {
   "display_name": "base",
   "language": "python",
   "name": "python3"
  },
  "language_info": {
   "name": "python",
   "version": "3.11.4"
  },
  "orig_nbformat": 4
 },
 "nbformat": 4,
 "nbformat_minor": 2
}

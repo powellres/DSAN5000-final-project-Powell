{
 "cells": [
  {
   "cell_type": "markdown",
   "metadata": {},
   "source": [
    "---\n",
    "title: \"DSAN-5000: Introduction\"\n",
    "---\n",
    "\n",
    "## Summary of Project\n",
    "For the scope of my project, I will delve into the extensive dataset provided by Ravelry.com, which stands as the foremost interactive database for knitting and crochet patterns provided by users across the globe. This database, boasting an extensive collection of hundreds of thousands of patterns. Positioned as the primary resource for pattern discovery and utilization among knitting enthusiasts, there exists a compelling incentive to ensure the sustained engagement of users with the platform to help it maintain its supremacy. I would like to propose the application of machine learning and algorithmic models to help fill this void and provide better understanding of the data present to help with future targeting.\n",
    "\n",
    "Despite the significance of Ravelry.com in the knitting community, there is a noticeable absence of direct research aimed at algorithmically enhancing comprehension and targeting within this specific domain and knitting overall. Most other knitting databases are owned by private corporations that create patterns to sell themselves, Ravelry is the only public one and thus the public must help it. Nevertheless, a separate parallel can be drawn between my intended research focus and two distinct but related areas: fabric simulations and user targeting. The latter is a well-established field dedicated to tailoring content to users' interests, thereby retaining their presence on the platform and driving targeted product engagement. I hope to incorporate those tactics into my work like private organizations would to build my own understanding of the methodology and to act as a consultant for Ravelry. On the other hand, the former represents a subfield within fabric simulations that specifically concentrates on knitted fabrics which, as a field, has been growing due to increased computational capacity. A more holistic understanding of the interplay between various patterns, yarn features, and fabric structures holds the potential to significantly enhance outcomes in fabric simulations and in pattern recommendations.\n",
    "\n",
    "I hope to serve as a conduit bridging these two spheres of knowledge together, conducting an initial probe that navigates the intersection of fabric simulations and user targeting by understanding the source of the two, patterns themselves. By doing so, I aim to fill the existing void in algorithmic enhancements for the knitting and crochet community on Ravelry.com. I do hope to also provide interesting facts and insights along the way which can help create a story with the data that can be pitched along with the analysis itself. I look forward to this work, and I also wish to provide some sources about fabric simulations as an example of what I'm mentioning.\n",
    "\n",
    "## Relevant Sources\n",
    "### Mechanics-aware deformation of yarn pattern geometry\n",
    "[see @sperl2021mechanics]\n",
    "This research paper undertook a noteworthy challenge by seeking to replace the prevailing industry standard, the triangle mesh fabric simulation method, with an innovative approach centered around knitted fabric simulation. The researchers achieved a commendable milestone, successfully implementing this novel method, albeit at a restricted scale. This strategic augmentation aimed to enhance the fidelity of fabric physics reproduction, pushing the boundaries to the extent of capturing intricate details such as yarn loop stretching.\n",
    "\n",
    "In the pursuit of this groundbreaking endeavor, the researchers navigated the complexities of transitioning from the established triangle mesh paradigm to a more tailored knitted fabric simulation. This transition, while achieved at a limited size, lays the groundwork for potential advancements in fabric simulation techniques. \n",
    "\n",
    "The successful integration of yarn layer animation over the traditional mesh not only demonstrates the adaptability of the proposed method but also underscores its potential applicability in broader contexts. The ability to capture yarn loop stretching is particularly noteworthy, as it signifies a breakthrough which could update the current paradigm and simplify the process for knitted fabrics in the future, saving computational power. This nuanced simulation approach may pave the way for more comprehensive studies into the behavior and optimization of knitted fabrics under diverse conditions, providing valuable insights for industries ranging from fashion to technical textiles.\n",
    "\n",
    "### Simulating Knitted Cloth at the Yarn Level\n",
    "[see @kaldor2008simulating]\n",
    "In this pioneering research endeavor, the focus was squarely set on revolutionizing the conventional woven fabric model employed in fabric simulation by introducing a paradigm shift of adopting the interlocking loops characteristic of knitted fabrics. This is separate from the previous paper as it focuses less on recreating behavior but on simulating the yarn itself as one continuous thread at tension. This transformative departure represents a fundamental reorientation in the approach to fabric simulation, shifting the layer of analysis from the collective movement of an entire sheet of fabric to the intricate behavior of individual strands of yarn as mentioned. \n",
    "\n",
    "The crux of this methodological shift lies in the nuanced simulation of yarn parameters, a departure from the more generalized approach inherent in traditional woven fabric simulations. By delving into the intricate characteristics of yarn such as tensile strength, weave, and fiber content, researchers sought to capture the complexities that arise from the interlocking loops present in knitted fabrics. This granular analysis enables a more detailed and faithful representation of the dynamic interplay between yarn strands, uncovering subtleties in movement, tension, and deformation that are integral to the authentic behavior of knitted fabrics.\n",
    "\n",
    "The essence of this approach lies not only in the simulation of individual yarn strands but also in the subsequent extrapolation of these micro-level behaviors to construct larger scale models. Singular loops may be easy to model for instance, but simulating thousands all interacting with each other is a much more computationally dense task which this paper achieved. The ability to reproduce intricate yarn behaviors over broader fabric surfaces holds immense promise in advancing the understanding of knitted fabrics' dynamic response to external forces, contributing to a more nuanced comprehension of their mechanical properties.\n",
    "\n",
    "As this research ushers in a new era of fabric simulation methodologies, the implications extend beyond the immediate confines of academia. Industries reliant on accurate fabric representation, such as fashion, textiles, and materials science, stand to benefit significantly from these advancements in simulating fabrics before producing them or by modeling cuts of fabric before they are produced.. The potential for this novel approach to inform design processes, enhance manufacturing efficiency, and foster innovation across various sectors underscores the far-reaching impact of this paradigm change in fabric simulation.\n",
    "\n",
    "## Questions for Research\n",
    "1. What relationships exist between known parameters?\n",
    "2. Are there groupings outside of known parameters that better represent the data?\n",
    "3. Are there any parameters that overlap and could reduce redundancy?\n",
    "4. What sort of keywords are most often used in pattern descriptions?\n",
    "5. What ways are there to measure popularity of a specific pattern?\n",
    "6. How could a more tailored recommendation algorithm be built?\n",
    "7. Are some pattern types more popular than others?\n",
    "8. Could a machine learning process determine the kind of garment by the parameters?\n",
    "9. How could pattern data be best correlated with real world trends if at all?\n",
    "10. What parameters could be used to create a more succinct pattern browsing experience?\n",
    "\n"
   ]
  }
 ],
 "metadata": {
  "kernelspec": {
   "display_name": "base",
   "language": "python",
   "name": "python3"
  },
  "language_info": {
   "name": "python",
   "version": "3.11.4"
  },
  "orig_nbformat": 4
 },
 "nbformat": 4,
 "nbformat_minor": 2
}

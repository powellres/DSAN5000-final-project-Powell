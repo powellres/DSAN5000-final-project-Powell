{
  "cells": [
    {
      "cell_type": "markdown",
      "metadata": {},
      "source": [
        "---\n",
        "title: Data Gathering\n",
        "format:\n",
        "    html:\n",
        "        code-fold: true\n",
        "---"
      ]
    },
    {
      "cell_type": "code",
      "execution_count": null,
      "metadata": {
        "vscode": {
          "languageId": "r"
        }
      },
      "outputs": [],
      "source": [
        "library(tidyverse)\n",
        "library(reticulate)\n",
        "library(ggplot2)\n",
        "library(jsonlite)"
      ]
    },
    {
      "cell_type": "markdown",
      "metadata": {},
      "source": [
        "### Introduction\n",
        "\n",
        "For this project I will be accessing the Ravelry API for pattern data from the Database. When trying to find larger databases of patterns Ravelry is the only source which is open to the public and not proprietary to an organization. I was still concerned that I was overstepping my bounds in downloading the data so I actually sent an email to the Ravelry API team:\n",
        "\n",
        "![\"Me emailing the API dev and them saying it was cool\"](../images/Approval.png)\n",
        "\n",
        "With this remarkable stamp of approval I began the process of pinging the API for pattern data. This also acted as my introduction to using API's formally and I was lucky to find an article which was an example of how to use API's with the Ravelry API. The article, linked below, was written expressly to help understand how API's worked and I used some of her code in order to set up my first API trials.\n",
        "\n",
        "[\"Medium API Website\"](https://medium.com/data-science-at-microsoft/how-to-access-an-api-for-first-time-api-users-879002f5f58d)\n",
        "\n",
        "I had already explored the Ravelry's API and documentation to understand what I was looking for. I had also made a pro account and a read key that I could use to get information and not much else, which was okay since I was just downloading information. This made plugging in the information pretty easy so I did my first request of pattern information.\n",
        "\n",
        "## Initial Attempt\n",
        "\n",
        "After giving some general details about how API's work she provided example code which was as follows. I input one of the patterns I'm a fan of to give an example response value.\n"
      ]
    },
    {
      "cell_type": "code",
      "execution_count": 4,
      "metadata": {
        "vscode": {
          "languageId": "r"
        }
      },
      "outputs": [
        {
          "name": "stdout",
          "output_type": "stream",
          "text": [
            "response output formatted:\n",
            "{\n",
            "    \"patterns\": [\n",
            "        {\n",
            "            \"free\": true,\n",
            "            \"id\": 968210,\n",
            "            \"name\": \"Seafaring Scarf in Big Good Wool\",\n",
            "            \"permalink\": \"seafaring-scarf-in-big-good-wool\",\n",
            "            \"personal_attributes\": null,\n",
            "            \"first_photo\": {\n",
            "                \"id\": 87973822,\n",
            "                \"sort_order\": 1,\n",
            "                \"user_id\": 31533,\n",
            "                \"x_offset\": -1,\n",
            "                \"y_offset\": -35,\n",
            "                \"square_url\": \"https://images4-f.ravelrycache.com/uploads/purlsoho/652402390/seafaring-scarf-BGW-600-4_square.jpg\",\n",
            "                \"medium_url\": \"https://images4-f.ravelrycache.com/uploads/purlsoho/652402390/seafaring-scarf-BGW-600-4_medium.jpg\",\n",
            "                \"thumbnail_url\": \"https://images4-g.ravelrycache.com/uploads/purlsoho/652402390/seafaring-scarf-BGW-600-4_thumbnail.jpg\",\n",
            "                \"small_url\": \"https://images4-g.ravelrycache.com/uploads/purlsoho/652402390/seafaring-scarf-BGW-600-4_small.jpg\",\n",
            "                \"medium2_url\": \"https://images4-a.ravelrycache.com/uploads/purlsoho/652402390/seafaring-scarf-BGW-600-4_medium2.jpg\",\n",
            "                \"small2_url\": \"https://images4-f.ravelrycache.com/uploads/purlsoho/652402390/seafaring-scarf-BGW-600-4_small2.jpg\",\n",
            "                \"caption\": null,\n",
            "                \"caption_html\": null,\n",
            "                \"copyright_holder\": null\n",
            "            },\n",
            "            \"designer\": {\n",
            "                \"crochet_pattern_count\": 48,\n",
            "                \"favorites_count\": 23745,\n",
            "                \"id\": 40686,\n",
            "                \"knitting_pattern_count\": 675,\n",
            "                \"name\": \"Purl Soho\",\n",
            "                \"patterns_count\": 723,\n",
            "                \"permalink\": \"purl-soho\",\n",
            "                \"users\": [\n",
            "                    {\n",
            "                        \"id\": 31533,\n",
            "                        \"username\": \"purlsoho\",\n",
            "                        \"tiny_photo_url\": \"https://avatars-d.ravelrycache.com/purlsoho/615839432/purl_soho_logo_tiny.jpg\",\n",
            "                        \"small_photo_url\": \"https://avatars-d.ravelrycache.com/purlsoho/615839432/purl_soho_logo_small.jpg\",\n",
            "                        \"photo_url\": \"https://avatars-d.ravelrycache.com/purlsoho/615839432/purl_soho_logo_large.jpg\"\n",
            "                    }\n",
            "                ]\n",
            "            },\n",
            "            \"pattern_author\": {\n",
            "                \"crochet_pattern_count\": 48,\n",
            "                \"favorites_count\": 23745,\n",
            "                \"id\": 40686,\n",
            "                \"knitting_pattern_count\": 675,\n",
            "                \"name\": \"Purl Soho\",\n",
            "                \"patterns_count\": 723,\n",
            "                \"permalink\": \"purl-soho\",\n",
            "                \"users\": [\n",
            "                    {\n",
            "                        \"id\": 31533,\n",
            "                        \"username\": \"purlsoho\",\n",
            "                        \"tiny_photo_url\": \"https://avatars-d.ravelrycache.com/purlsoho/615839432/purl_soho_logo_tiny.jpg\",\n",
            "                        \"small_photo_url\": \"https://avatars-d.ravelrycache.com/purlsoho/615839432/purl_soho_logo_small.jpg\",\n",
            "                        \"photo_url\": \"https://avatars-d.ravelrycache.com/purlsoho/615839432/purl_soho_logo_large.jpg\"\n",
            "                    }\n",
            "                ]\n",
            "            },\n",
            "            \"pattern_sources\": [\n",
            "                {\n",
            "                    \"amazon_rating\": null,\n",
            "                    \"amazon_reviews\": null,\n",
            "                    \"amazon_sales_rank\": null,\n",
            "                    \"amazon_updated_at\": null,\n",
            "                    \"amazon_url\": null,\n",
            "                    \"approved_patterns_count\": 701,\n",
            "                    \"asin\": \"\",\n",
            "                    \"author\": \"\",\n",
            "                    \"author_pattern_author_id\": null,\n",
            "                    \"author_surname\": \"\",\n",
            "                    \"book_binding\": null,\n",
            "                    \"completed\": false,\n",
            "                    \"created_at\": \"2016/04/23 22:05:01 -0400\",\n",
            "                    \"created_by_user_id\": 433514,\n",
            "                    \"designer_pending_patterns_count\": 0,\n",
            "                    \"designer_users_count\": 0,\n",
            "                    \"editorships_count\": 0,\n",
            "                    \"favorites_count\": 2825,\n",
            "                    \"first_photo_id\": null,\n",
            "                    \"flaggings_count\": 0,\n",
            "                    \"fulfilled_by_ravelry\": false,\n",
            "                    \"has_photo\": false,\n",
            "                    \"id\": 207513,\n",
            "                    \"isbn_13\": null,\n",
            "                    \"issue\": null,\n",
            "                    \"keywords\": \"purlsoho\",\n",
            "                    \"label\": null,\n",
            "                    \"large_image_url\": null,\n",
            "                    \"last_pattern_edit\": \"2023/11/27 14:10:09 -0500\",\n",
            "                    \"link_id\": 317032,\n",
            "                    \"list_price\": null,\n",
            "                    \"lock_version\": 17,\n",
            "                    \"medium_image_url\": null,\n",
            "                    \"name\": \"Purl Soho\",\n",
            "                    \"out_of_print\": false,\n",
            "                    \"pattern_source_type_id\": 3,\n",
            "                    \"patterns_count\": 810,\n",
            "                    \"pending_patterns_count\": 109,\n",
            "                    \"periodical\": false,\n",
            "                    \"permalink\": \"purl-soho\",\n",
            "                    \"photos_permitted\": false,\n",
            "                    \"popularity\": 0.0,\n",
            "                    \"popularity_rank\": 2147483647,\n",
            "                    \"price\": null,\n",
            "                    \"publication_date\": null,\n",
            "                    \"publication_date_set\": 0,\n",
            "                    \"publication_day_set\": 0,\n",
            "                    \"publication_sort_order\": null,\n",
            "                    \"publication_year\": null,\n",
            "                    \"publisher_id\": null,\n",
            "                    \"shelf_image_path\": null,\n",
            "                    \"shelf_image_size\": null,\n",
            "                    \"small_image_url\": null,\n",
            "                    \"source_group_id\": null,\n",
            "                    \"stickies_count\": 0,\n",
            "                    \"store_id\": null,\n",
            "                    \"updated_at\": \"2021/03/27 10:07:19 -0400\",\n",
            "                    \"url\": \"http://www.purlsoho.com/\",\n",
            "                    \"work_id\": null,\n",
            "                    \"notes\": \"\"\n",
            "                }\n",
            "            ]\n",
            "        }\n",
            "    ],\n",
            "    \"paginator\": {\n",
            "        \"page_count\": 11,\n",
            "        \"page\": 1,\n",
            "        \"page_size\": 1,\n",
            "        \"results\": 11,\n",
            "        \"last_page\": 11\n",
            "    }\n",
            "}\n"
          ]
        }
      ],
      "source": [
        "## I'm working on it\n",
        "import http.client\n",
        "import json\n",
        "import requests\n",
        "import pandas as pd\n",
        "\n",
        "## borrowed code\n",
        "authUsername = \"read-e0c523a2ded312cf2cf7cb481460fd47\"\n",
        "authPassword = \"oscwhYXQaBG/eh+XNej+Z50xvHiQkjPb6IrzTImB\"\n",
        "\n",
        "#define URL for the API request\n",
        "url = 'https://api.ravelry.com/patterns/search.json?query={}&page={}&page_size={}'.format(\"Seafaring Scarf\", 1, 1, )\n",
        "#make the request\n",
        "r1 = requests.get(url, auth=requests.auth.HTTPBasicAuth(authUsername, authPassword))\n",
        "#close the connection\n",
        "r1.close()\n",
        "\n",
        "print(\"response output formatted:\")\n",
        "print(json.dumps(json.loads(r1.text), indent=4)) #makes the json more readable"
      ]
    },
    {
      "cell_type": "markdown",
      "metadata": {},
      "source": [
        "\n",
        "This attempt was very successful and I was able to get a pull of a pattern I liked. I did notice though that this json file did not actually have all the information I was interested in. The file itself seemed to be formatted more with information about the user and its position in the website. Given this was the case I continued into the article.\n",
        "\n",
        "She expanded upon the API's methods with classes and functions, however she also linked to some other resources which included a package in R specifically designed for use with the Ravelry API. So like most programmers I decided to use another's work for my own benefit.\n",
        "\n",
        "[\"Documentation for the ravelRy package\"](https://www.rdocumentation.org/packages/ravelRy/versions/0.1.0)\n",
        "\n",
        "## Successful Attempt\n",
        "\n",
        "Table of process\n",
        "- Package overview \\\n",
        "- Description of process \\\n",
        "- Query step \\ \n",
        "  - Query timing \\\n",
        "  - Query optimization \\\n",
        "    - Query timing \\\n",
        "    - Optimizing by page number \\\n",
        "  - Data collection through Query \\\n",
        "- Get pattern step \\\n",
        "  - Pattern timing \\\n",
        "  - Pattern optimization \\\n",
        "  - Pattern collection through iterative process \\\n",
        "- Summary of remaining data \\\n",
        "- Conclusions \\"
      ]
    },
    {
      "cell_type": "code",
      "execution_count": 2,
      "metadata": {
        "vscode": {
          "languageId": "r"
        }
      },
      "outputs": [
        {
          "data": {
            "text/html": [
              "'ravelRy is an R package that provides access to the Ravelry API.'"
            ],
            "text/latex": [
              "'ravelRy is an R package that provides access to the Ravelry API.'"
            ],
            "text/markdown": [
              "'ravelRy is an R package that provides access to the Ravelry API.'"
            ],
            "text/plain": [
              "[1] \"ravelRy is an R package that provides access to the Ravelry API.\""
            ]
          },
          "metadata": {},
          "output_type": "display_data"
        },
        {
          "data": {
            "text/html": [
              "'Ravelry describes itself as a place for knitters, crocheters, designers, spinners, weavers and dyers to keep track of their yarn, tools, project and pattern information, and look to others for ideas and inspiration.'"
            ],
            "text/latex": [
              "'Ravelry describes itself as a place for knitters, crocheters, designers, spinners, weavers and dyers to keep track of their yarn, tools, project and pattern information, and look to others for ideas and inspiration.'"
            ],
            "text/markdown": [
              "'Ravelry describes itself as a place for knitters, crocheters, designers, spinners, weavers and dyers to keep track of their yarn, tools, project and pattern information, and look to others for ideas and inspiration.'"
            ],
            "text/plain": [
              "[1] \"Ravelry describes itself as a place for knitters, crocheters, designers, spinners, weavers and dyers to keep track of their yarn, tools, project and pattern information, and look to others for ideas and inspiration.\""
            ]
          },
          "metadata": {},
          "output_type": "display_data"
        }
      ],
      "source": [
        "# Never do work someone has done before\n",
        "library(ravelRy)\n",
        "\"ravelRy is an R package that provides access to the Ravelry API.\"\n",
        "\"Ravelry describes itself as a place for knitters, crocheters, designers, spinners, weavers and dyers to keep track of their yarn, tools, project and pattern information, and look to others for ideas and inspiration.\""
      ]
    },
    {
      "cell_type": "markdown",
      "metadata": {},
      "source": [
        "#### Package Overview\n",
        "\n",
        "The package required the same username and password I had made before, so I established them in my .Renviron folder so they could be accessed without console intervention. This step was required as the package would use the console to ask for username and password which stopped Quarto from rendering."
      ]
    },
    {
      "cell_type": "code",
      "execution_count": 3,
      "metadata": {
        "vscode": {
          "languageId": "r"
        }
      },
      "outputs": [],
      "source": [
        "#Establishing Credentials\n",
        "#ravelry_auth(key = 'username') \n",
        "#ravelry_auth(key = 'password')"
      ]
    },
    {
      "cell_type": "markdown",
      "metadata": {},
      "source": [
        "Having set it up, I was left to run my query and collect as many data entries as I could reasonably. The database itself has, on my last check, one million two hundred and sixty three thousand nine hundred and eleven patterns. While I do not need all those patterns, I'm looking to get as many as reasonable which would be at maximum one million and minimum one hundred thousand.\n",
        "\n",
        "#### Description of Process\n",
        "\n",
        "On my end this collection included two steps, the first of which involved a direct query of the database as if I were doing a search (search_patterns). I could have provided some specifics to the query such as category or type but I was more concerned with having as much information as possible at this stage.\n",
        "\n",
        "The second step involved using a built-in function of the package to actually get the pattern information which I will be analyzing, this is the stuff that was not available with the traditional API pull. Interestingly this step took more time to process than the previous and I did some experimenting to optimize the steps. I will mention that and more after I complete the demo of the data gathering process.\n",
        "\n",
        "## Query Step\n",
        "And thus I began the process of querying data optimally and maximally.\n",
        "\n",
        "#### Query Timing\n",
        "I am starting but doing some tests on query time in comparison to amount and so I took the length step of doing a for loop for each 10 queries. There is currently an abridged amount but the pattern should hold and I will prove that once I can process better."
      ]
    },
    {
      "cell_type": "code",
      "execution_count": 4,
      "metadata": {
        "vscode": {
          "languageId": "r"
        }
      },
      "outputs": [
        {
          "ename": "",
          "evalue": "",
          "output_type": "error",
          "traceback": [
            "\u001b[1;31mThe Kernel crashed while executing code in the the current cell or a previous cell. Please review the code in the cell(s) to identify a possible cause of the failure. Click <a href='https://aka.ms/vscodeJupyterKernelCrash'>here</a> for more info. View Jupyter <a href='command:jupyter.viewOutput'>log</a> for further details."
          ]
        }
      ],
      "source": [
        "query_times <- c()\n",
        "start_time <- Sys.time()\n",
        "for(i in 1:250){\n",
        "  n_query <- 10*i\n",
        "  query_start_time <- Sys.time()\n",
        "  search_results <- search_patterns(query = '',page_size = n_query)\n",
        "  query_results_time <- Sys.time()\n",
        "  query_times <- c(query_times,query_results_time - query_start_time)\n",
        "}\n",
        "end_time <- Sys.time()\n",
        "\n",
        "#print(\"This test took \" + str(end_time - start_time) + \" seconds to run\")\n",
        "# this took alot of time"
      ]
    },
    {
      "cell_type": "code",
      "execution_count": 18,
      "metadata": {
        "vscode": {
          "languageId": "r"
        }
      },
      "outputs": [
        {
          "data": {
            "text/plain": [
              "\n",
              "Call:\n",
              "lm(formula = query_times ~ query_amount, data = query_data)\n",
              "\n",
              "Residuals:\n",
              "    Min      1Q  Median      3Q     Max \n",
              "-3.8921 -0.8584 -0.0823  0.5701  4.4548 \n",
              "\n",
              "Coefficients:\n",
              "              Estimate Std. Error t value Pr(>|t|)    \n",
              "(Intercept)  0.1560400  0.1617484   0.965    0.336    \n",
              "query_amount 0.0076100  0.0001117  68.113   <2e-16 ***\n",
              "---\n",
              "Signif. codes:  0 '***' 0.001 '**' 0.01 '*' 0.05 '.' 0.1 ' ' 1\n",
              "\n",
              "Residual standard error: 1.275 on 248 degrees of freedom\n",
              "Multiple R-squared:  0.9493,\tAdjusted R-squared:  0.9491 \n",
              "F-statistic:  4639 on 1 and 248 DF,  p-value: < 2.2e-16\n"
            ]
          },
          "metadata": {},
          "output_type": "display_data"
        },
        {
          "name": "stderr",
          "output_type": "stream",
          "text": [
            "\u001b[1m\u001b[22m`geom_smooth()` using formula = 'y ~ x'\n"
          ]
        },
        {
          "data": {
            "image/png": "[encoded data removed]",
            "text/plain": [
              "plot without title"
            ]
          },
          "metadata": {
            "image/png": {
              "height": 420,
              "width": 420
            }
          },
          "output_type": "display_data"
        }
      ],
      "source": [
        "query_data <- data.frame((1:length(query_times))*10,query_times)\n",
        "colnames(query_data)[1] <- \"query_amount\"\n",
        "\n",
        "model <- lm(data = query_data, query_times ~ query_amount)\n",
        "summary(model)\n",
        "\n",
        "a <- model$coefficients[2] # slope\n",
        "b <- model$coefficients[1] # intercept\n",
        "\n",
        "ggplot(data = query_data, aes(x = query_amount,y=query_times)) +\n",
        "    geom_point() + \n",
        "    geom_smooth(method = \"lm\") +\n",
        "    xlab(\"Amount of patterns querried\") +\n",
        "    ylab(\"Time taken to query patterns (s)\") +\n",
        "    theme_classic() +\n",
        "    labs(title = \"Rate of querying\")"
      ]
    },
    {
      "cell_type": "markdown",
      "metadata": {},
      "source": [
        "Upon visualization there is a fairly linear trend with some variance change as the query rate goes larger. This variance can probably be found in the difference in computational power in my computer moment to moment. However the linear trend, as shown by the quick regression model I computed, is a good sign that there aren't any artificial constraints on the system to limit querying. Also given the equation found of time = .0068(amount) + .174 we can guess that querying one million patterns will take about 7600 seconds or 113 minutes which is about 2 hours. It would be optimal to just plug that amount into the search patterns feature but there seems to be an unofficial limit to the amount of patterns that can be referenced which I will talk about next.\n",
        "\n",
        "#### Optimizing by Page Number\n",
        "\n",
        "After completing a large number of queries, most often at or above 5000, there will be an error that says a json wasn't read. This implies that there is a hard limit to how many patterns can be searched in a single query. The logical solution is to do multiple queries with a set amount. In the search_patterns function there is another variable aside from page_size, which gives the number of results to retrieve, page gives which page to start one. Now the page size on the website averages to 48, however the page size of the query function is variable and is dependent on the amount of patterns being queried. However, this works in our favor as queries starting at different pages will always go by the page number for amount, meaning we can run as many queries as desired that will not overlap by keeping the amount per page consistent and using the next page. In this example we get Weekend hat being the last pattern of a 100 pattern page 1 and the first of a 99 pattern page 2. We are intentionally creating a lag here so that we can show the overlap, this would not happen if the page sizes were the same."
      ]
    },
    {
      "cell_type": "code",
      "execution_count": 20,
      "metadata": {
        "vscode": {
          "languageId": "r"
        }
      },
      "outputs": [
        {
          "data": {
            "text/html": [
              "<table class=\"dataframe\">\n",
              "<caption>A tibble: 1 × 7</caption>\n",
              "<thead>\n",
              "\t<tr><th scope=col>free</th><th scope=col>id</th><th scope=col>name</th><th scope=col>permalink</th><th scope=col>designer.id</th><th scope=col>designer.name</th><th scope=col>pattern_sources</th></tr>\n",
              "\t<tr><th scope=col>&lt;lgl&gt;</th><th scope=col>&lt;int&gt;</th><th scope=col>&lt;chr&gt;</th><th scope=col>&lt;chr&gt;</th><th scope=col>&lt;int&gt;</th><th scope=col>&lt;chr&gt;</th><th scope=col>&lt;list&gt;</th></tr>\n",
              "</thead>\n",
              "<tbody>\n",
              "\t<tr><td>FALSE</td><td>1300588</td><td>Weekend Hat</td><td>weekend-hat-5</td><td>92889</td><td>PetiteKnit</td><td>                                         ,                                          ,                                          ,                                          ,                                          , 258                                      ,                                          , Mette Wendelboe Okkels                   , 92889                                    , Okkels                                   ,                                          , FALSE                                    , 2016/10/26 09:41:37 -0400                , 6732810                                  , 0                                        , 0                                        , 0                                        , 11144                                    ,                                          , 2                                        , FALSE                                    , FALSE                                    , 215774                                   ,                                          ,                                          , petiteknit.com, Petite Knit              ,                                          ,                                          , 2023/10/25 08:38:21 -0400                , 399411                                   ,                                          , 14                                       ,                                          , PetiteKnit Ravelry Store                 , FALSE                                    , 7                                        , 262                                      , 4                                        , FALSE                                    , petiteknit-ravelry-store                 , FALSE                                    , 0                                        , 2147483647                               ,                                          ,                                          , 0                                        , 0                                        ,                                          ,                                          ,                                          ,                                          ,                                          ,                                          ,                                          , 9                                        , 59482                                    , 2022/05/13 01:14:08 -0400                , https://www.ravelry.com/stores/petiteknit,                                          ,                                          </td></tr>\n",
              "</tbody>\n",
              "</table>\n"
            ],
            "text/latex": [
              "A tibble: 1 × 7\n",
              "\\begin{tabular}{lllllll}\n",
              " free & id & name & permalink & designer.id & designer.name & pattern\\_sources\\\\\n",
              " <lgl> & <int> & <chr> & <chr> & <int> & <chr> & <list>\\\\\n",
              "\\hline\n",
              "\t FALSE & 1300588 & Weekend Hat & weekend-hat-5 & 92889 & PetiteKnit &                                          ,                                          ,                                          ,                                          ,                                          , 258                                      ,                                          , Mette Wendelboe Okkels                   , 92889                                    , Okkels                                   ,                                          , FALSE                                    , 2016/10/26 09:41:37 -0400                , 6732810                                  , 0                                        , 0                                        , 0                                        , 11144                                    ,                                          , 2                                        , FALSE                                    , FALSE                                    , 215774                                   ,                                          ,                                          , petiteknit.com, Petite Knit              ,                                          ,                                          , 2023/10/25 08:38:21 -0400                , 399411                                   ,                                          , 14                                       ,                                          , PetiteKnit Ravelry Store                 , FALSE                                    , 7                                        , 262                                      , 4                                        , FALSE                                    , petiteknit-ravelry-store                 , FALSE                                    , 0                                        , 2147483647                               ,                                          ,                                          , 0                                        , 0                                        ,                                          ,                                          ,                                          ,                                          ,                                          ,                                          ,                                          , 9                                        , 59482                                    , 2022/05/13 01:14:08 -0400                , https://www.ravelry.com/stores/petiteknit,                                          ,                                          \\\\\n",
              "\\end{tabular}\n"
            ],
            "text/markdown": [
              "\n",
              "A tibble: 1 × 7\n",
              "\n",
              "| free &lt;lgl&gt; | id &lt;int&gt; | name &lt;chr&gt; | permalink &lt;chr&gt; | designer.id &lt;int&gt; | designer.name &lt;chr&gt; | pattern_sources &lt;list&gt; |\n",
              "|---|---|---|---|---|---|---|\n",
              "| FALSE | 1300588 | Weekend Hat | weekend-hat-5 | 92889 | PetiteKnit |                                          ,                                          ,                                          ,                                          ,                                          , 258                                      ,                                          , Mette Wendelboe Okkels                   , 92889                                    , Okkels                                   ,                                          , FALSE                                    , 2016/10/26 09:41:37 -0400                , 6732810                                  , 0                                        , 0                                        , 0                                        , 11144                                    ,                                          , 2                                        , FALSE                                    , FALSE                                    , 215774                                   ,                                          ,                                          , petiteknit.com, Petite Knit              ,                                          ,                                          , 2023/10/25 08:38:21 -0400                , 399411                                   ,                                          , 14                                       ,                                          , PetiteKnit Ravelry Store                 , FALSE                                    , 7                                        , 262                                      , 4                                        , FALSE                                    , petiteknit-ravelry-store                 , FALSE                                    , 0                                        , 2147483647                               ,                                          ,                                          , 0                                        , 0                                        ,                                          ,                                          ,                                          ,                                          ,                                          ,                                          ,                                          , 9                                        , 59482                                    , 2022/05/13 01:14:08 -0400                , https://www.ravelry.com/stores/petiteknit,                                          ,                                           |\n",
              "\n"
            ],
            "text/plain": [
              "  free  id      name        permalink     designer.id designer.name\n",
              "1 FALSE 1300588 Weekend Hat weekend-hat-5 92889       PetiteKnit   \n",
              "  pattern_sources                                                                                                                                                                                                                                                                                                                                                                                                                                                                                                                                                                                                                                                                                                                                                                                                                                                                                                                                                                                                                                                                                                                                                                                                                                                                                                                                                                                                                                                                                                                                                                                                                                                                                                                                                                                                                                                                                                                                                                                                                                                                                                                                                                                                                                                                                                                                                                                                                                                                                                                                                                                                                                                                   \n",
              "1                                          ,                                          ,                                          ,                                          ,                                          , 258                                      ,                                          , Mette Wendelboe Okkels                   , 92889                                    , Okkels                                   ,                                          , FALSE                                    , 2016/10/26 09:41:37 -0400                , 6732810                                  , 0                                        , 0                                        , 0                                        , 11144                                    ,                                          , 2                                        , FALSE                                    , FALSE                                    , 215774                                   ,                                          ,                                          , petiteknit.com, Petite Knit              ,                                          ,                                          , 2023/10/25 08:38:21 -0400                , 399411                                   ,                                          , 14                                       ,                                          , PetiteKnit Ravelry Store                 , FALSE                                    , 7                                        , 262                                      , 4                                        , FALSE                                    , petiteknit-ravelry-store                 , FALSE                                    , 0                                        , 2147483647                               ,                                          ,                                          , 0                                        , 0                                        ,                                          ,                                          ,                                          ,                                          ,                                          ,                                          ,                                          , 9                                        , 59482                                    , 2022/05/13 01:14:08 -0400                , https://www.ravelry.com/stores/petiteknit,                                          ,                                          "
            ]
          },
          "metadata": {},
          "output_type": "display_data"
        }
      ],
      "source": [
        "page_1 <- search_patterns(query = '',page_size = 100,page = 1)\n",
        "page_2 <- search_patterns(query = '',page_size = 99,page = 2)\n",
        "page_2_start <- page_2$name[1]\n",
        "page_1_overlap <- page_1 %>% filter(name == page_2_start)\n",
        "\n",
        "page_1_overlap"
      ]
    },
    {
      "cell_type": "markdown",
      "metadata": {},
      "source": [
        "#### Data Collection through Query\n",
        "\n",
        "After condensing a way to give a max query by page I can estimate a total amount of data of 1000000 which I will now query. Based on the equation given this is expected to take around 2 hours of time give or take a few minutes due to the added time of merging data sets between steps. I'm looking here to gather one million data entries in stages of 2000 queries, so I will be running a 400 round for loop in order to accomplish this goal.\n",
        "\n",
        "Inevitably however I ran into a different setback, the api actually only references up to the first 100,000 patterns which limits my sample size. As seen below it will not be able to return the final JSONs. With this being the case, I decided to settle with 100,000 patterns; an amount that is below optimal but will probably save me time in the long run."
      ]
    },
    {
      "cell_type": "code",
      "execution_count": 7,
      "metadata": {
        "vscode": {
          "languageId": "r"
        }
      },
      "outputs": [
        {
          "name": "stdout",
          "output_type": "stream",
          "text": [
            "[1] 42\n"
          ]
        },
        {
          "ename": "ERROR",
          "evalue": "Error: API did not return json\n",
          "output_type": "error",
          "traceback": [
            "Error: API did not return json\nTraceback:\n",
            "1. search_patterns(query = \"\", page_size = 2500, page = i)",
            "2. ravelry_get(path = \"patterns/search.json\", query = list(query = query, \n .     page = page, page_size = page_size, ...))",
            "3. stop(\"API did not return json\", call. = FALSE)"
          ]
        }
      ],
      "source": [
        "\n",
        "query_start_time <- Sys.time()\n",
        "for(i in 1:40){\n",
        "    print(i)\n",
        "    search_results <- search_patterns(query = '',page_size = 3000,page = i)\n",
        "    if(i == 1){\n",
        "        query_total <- search_results\n",
        "    } else{\n",
        "        query_total <- rbind(query_total,search_results)\n",
        "    }\n",
        "}\n",
        "query_results_time <- Sys.time()\n",
        "\n",
        "print(query_results_time - query_start_time)\n",
        "\n",
        "print(head(query_total))\n",
        "\n",
        "write.csv(query_total,\"query_results.csv\")"
      ]
    },
    {
      "cell_type": "code",
      "execution_count": 11,
      "metadata": {
        "vscode": {
          "languageId": "r"
        }
      },
      "outputs": [
        {
          "data": {
            "text/html": [
              "TRUE"
            ],
            "text/latex": [
              "TRUE"
            ],
            "text/markdown": [
              "TRUE"
            ],
            "text/plain": [
              "[1] TRUE"
            ]
          },
          "metadata": {},
          "output_type": "display_data"
        }
      ],
      "source": [
        "query_data <- query_total\n",
        "library(jsonlite)\n",
        "query_json <- toJSON(query_data)\n",
        "validate(query_json)\n",
        "write_json(query_json,\"../data/query_data_raw.JSON\")\n"
      ]
    },
    {
      "cell_type": "markdown",
      "metadata": {},
      "source": [
        "After getting it all I wrote the data to a JSON file so I wouldn't have to run it again later.\n",
        "\n",
        "As a part of the process I also completed the timely step of calculating the query time for each query. I may have over crashed my queries per day but I was having fun.\n",
        "\n",
        "## Get Pattern Step\n",
        "\n",
        "#### Pattern timing\n",
        "\n",
        "Similar to the query time the pattern time tends to change with the amount of data so I will do a test run of timing for a possible optimization problem. I will again go by every 10 queries and will ignore the time taken to request the query. As this is a separate step in my real process I will not need to worry about batching it in the same amount as the queries."
      ]
    },
    {
      "cell_type": "code",
      "execution_count": 13,
      "metadata": {
        "vscode": {
          "languageId": "r"
        }
      },
      "outputs": [],
      "source": [
        "pattern_times <- c()\n",
        "\n",
        "search_results <- search_patterns(query = '',page_size = 2500)\n",
        "\n",
        "for(i in 1:250){\n",
        "  pattern_start_time <- Sys.time()\n",
        "  get_patterns(id = search_results$id[1:i*10])\n",
        "  pattern_results_time <- Sys.time()\n",
        "  pattern_times <- c(pattern_times,pattern_results_time - pattern_start_time)\n",
        "}\n"
      ]
    },
    {
      "cell_type": "code",
      "execution_count": 24,
      "metadata": {
        "vscode": {
          "languageId": "r"
        }
      },
      "outputs": [
        {
          "data": {
            "image/png": "[encoded data removed]",
            "text/plain": [
              "plot without title"
            ]
          },
          "metadata": {
            "image/png": {
              "height": 420,
              "width": 420
            }
          },
          "output_type": "display_data"
        }
      ],
      "source": [
        "\n",
        "pattern_data <- data.frame((1:length(pattern_times))*10,pattern_times)\n",
        "colnames(pattern_data)[1] <- \"pattern_amount\"\n",
        "\n",
        "# When it took longer than a minute to get the patterns the response changed from seconds to minutes\n",
        "# I changed it back here to keep units\n",
        "pattern_data_adapt <- pattern_data\n",
        "\n",
        "for(i in 1:250){\n",
        "    if(pattern_data_adapt[i,2] < 3 & i >100){\n",
        "        pattern_data_adapt[i,2] <- pattern_data_adapt[i,2] * 60\n",
        "    }\n",
        "}\n",
        "\n",
        "ggplot(data = pattern_data_adapt, aes(x = pattern_amount,y= pattern_times)) + geom_point()"
      ]
    },
    {
      "cell_type": "markdown",
      "metadata": {},
      "source": [
        "Looking at this data it seems as if there is a vague exponential distribution although the main takeaway is that finding the pattern information takes much more time than the individual queries. This would make it a much more limiting factor in my wild attempt for insane amounts of data. Luckily this trend wasn't actually too representative of the final amount of time and it was not long at all, but I still wanted to optimize and prepare for the conversion.\n",
        "\n",
        "#### Pattern Optimization\n",
        "\n",
        "Using the data from before we can do a quick test to see which point has the optimal ratio of amount to time. The units in this would be patterns per second and we are looking for the maximum number out of all of the tme pattern combos."
      ]
    },
    {
      "cell_type": "code",
      "execution_count": 40,
      "metadata": {
        "vscode": {
          "languageId": "r"
        }
      },
      "outputs": [
        {
          "data": {
            "text/html": [
              "143.933179214819"
            ],
            "text/latex": [
              "143.933179214819"
            ],
            "text/markdown": [
              "143.933179214819"
            ],
            "text/plain": [
              "[1] 143.9332"
            ]
          },
          "metadata": {},
          "output_type": "display_data"
        },
        {
          "data": {
            "text/html": [
              "<table class=\"dataframe\">\n",
              "<caption>A data.frame: 10 × 3</caption>\n",
              "<thead>\n",
              "\t<tr><th></th><th scope=col>pattern_amount</th><th scope=col>pattern_times</th><th scope=col>pattern_ratio</th></tr>\n",
              "\t<tr><th></th><th scope=col>&lt;dbl&gt;</th><th scope=col>&lt;dbl&gt;</th><th scope=col>&lt;dbl&gt;</th></tr>\n",
              "</thead>\n",
              "<tbody>\n",
              "\t<tr><th scope=row>1</th><td> 10</td><td>0.07591796</td><td>131.7211</td></tr>\n",
              "\t<tr><th scope=row>2</th><td> 20</td><td>0.14022303</td><td>142.6299</td></tr>\n",
              "\t<tr><th scope=row>3</th><td> 30</td><td>0.26294994</td><td>114.0902</td></tr>\n",
              "\t<tr><th scope=row>4</th><td> 40</td><td>0.30642605</td><td>130.5372</td></tr>\n",
              "\t<tr><th scope=row>5</th><td> 50</td><td>0.50406885</td><td> 99.1928</td></tr>\n",
              "\t<tr><th scope=row>6</th><td> 60</td><td>0.41686010</td><td>143.9332</td></tr>\n",
              "\t<tr><th scope=row>7</th><td> 70</td><td>0.52426100</td><td>133.5213</td></tr>\n",
              "\t<tr><th scope=row>8</th><td> 80</td><td>0.63188291</td><td>126.6057</td></tr>\n",
              "\t<tr><th scope=row>9</th><td> 90</td><td>0.72974205</td><td>123.3313</td></tr>\n",
              "\t<tr><th scope=row>10</th><td>100</td><td>0.87868285</td><td>113.8067</td></tr>\n",
              "</tbody>\n",
              "</table>\n"
            ],
            "text/latex": [
              "A data.frame: 10 × 3\n",
              "\\begin{tabular}{r|lll}\n",
              "  & pattern\\_amount & pattern\\_times & pattern\\_ratio\\\\\n",
              "  & <dbl> & <dbl> & <dbl>\\\\\n",
              "\\hline\n",
              "\t1 &  10 & 0.07591796 & 131.7211\\\\\n",
              "\t2 &  20 & 0.14022303 & 142.6299\\\\\n",
              "\t3 &  30 & 0.26294994 & 114.0902\\\\\n",
              "\t4 &  40 & 0.30642605 & 130.5372\\\\\n",
              "\t5 &  50 & 0.50406885 &  99.1928\\\\\n",
              "\t6 &  60 & 0.41686010 & 143.9332\\\\\n",
              "\t7 &  70 & 0.52426100 & 133.5213\\\\\n",
              "\t8 &  80 & 0.63188291 & 126.6057\\\\\n",
              "\t9 &  90 & 0.72974205 & 123.3313\\\\\n",
              "\t10 & 100 & 0.87868285 & 113.8067\\\\\n",
              "\\end{tabular}\n"
            ],
            "text/markdown": [
              "\n",
              "A data.frame: 10 × 3\n",
              "\n",
              "| <!--/--> | pattern_amount &lt;dbl&gt; | pattern_times &lt;dbl&gt; | pattern_ratio &lt;dbl&gt; |\n",
              "|---|---|---|---|\n",
              "| 1 |  10 | 0.07591796 | 131.7211 |\n",
              "| 2 |  20 | 0.14022303 | 142.6299 |\n",
              "| 3 |  30 | 0.26294994 | 114.0902 |\n",
              "| 4 |  40 | 0.30642605 | 130.5372 |\n",
              "| 5 |  50 | 0.50406885 |  99.1928 |\n",
              "| 6 |  60 | 0.41686010 | 143.9332 |\n",
              "| 7 |  70 | 0.52426100 | 133.5213 |\n",
              "| 8 |  80 | 0.63188291 | 126.6057 |\n",
              "| 9 |  90 | 0.72974205 | 123.3313 |\n",
              "| 10 | 100 | 0.87868285 | 113.8067 |\n",
              "\n"
            ],
            "text/plain": [
              "   pattern_amount pattern_times pattern_ratio\n",
              "1   10            0.07591796    131.7211     \n",
              "2   20            0.14022303    142.6299     \n",
              "3   30            0.26294994    114.0902     \n",
              "4   40            0.30642605    130.5372     \n",
              "5   50            0.50406885     99.1928     \n",
              "6   60            0.41686010    143.9332     \n",
              "7   70            0.52426100    133.5213     \n",
              "8   80            0.63188291    126.6057     \n",
              "9   90            0.72974205    123.3313     \n",
              "10 100            0.87868285    113.8067     "
            ]
          },
          "metadata": {},
          "output_type": "display_data"
        },
        {
          "data": {
            "image/png": "[encoded data removed]",
            "text/plain": [
              "plot without title"
            ]
          },
          "metadata": {
            "image/png": {
              "height": 420,
              "width": 420
            }
          },
          "output_type": "display_data"
        }
      ],
      "source": [
        "pattern_data_adapt$pattern_ratio = pattern_data_adapt$pattern_amount/pattern_data_adapt$pattern_times\n",
        "\n",
        "max(pattern_data_adapt$pattern_ratio)\n",
        "pattern_data_adapt[1:10,]\n",
        "ggplot(data = pattern_data_adapt, aes(x = pattern_amount, y = pattern_ratio)) + geom_point()"
      ]
    },
    {
      "cell_type": "markdown",
      "metadata": {},
      "source": [
        "With the data that I have it seems that a lower amount around 60-70 is actually the most efficient amount of patterns to get at a time. However, with it to make an even breakdown of the 100,000 patterns I'm going to break it into 80 pattern chunks. I'm not considering the amount of time that it takes to merge the resulting values with an rbind. I will worry about this later if I need to optimize further.\n",
        "\n",
        "#### Pattern Collection Through Iterative Process\n",
        "\n",
        "The next step after querying as much data as possible was using the built in get_patterns() function to get the pattern details I was interested in. If I'm patterning about 100,000 ids then in chunks of 80 with about .65 seconds a package then I will have a total time as follows:\n",
        "\n",
        "$$\n",
        "\\frac{100000}{80}*.63188=789.85 \\text{ seconds or } 13.16 \\text{ minutes}\n",
        "$$"
      ]
    },
    {
      "cell_type": "code",
      "execution_count": null,
      "metadata": {
        "vscode": {
          "languageId": "r"
        }
      },
      "outputs": [],
      "source": [
        "query_json <- read_json(\"../data/query_data_raw.JSON\")"
      ]
    },
    {
      "cell_type": "code",
      "execution_count": 34,
      "metadata": {
        "vscode": {
          "languageId": "r"
        }
      },
      "outputs": [],
      "source": [
        "query_data <- fromJSON(query_json[[1]])"
      ]
    },
    {
      "cell_type": "code",
      "execution_count": 45,
      "metadata": {
        "vscode": {
          "languageId": "r"
        }
      },
      "outputs": [
        {
          "name": "stdout",
          "output_type": "stream",
          "text": [
            "Error : API did not return json\n",
            "Time difference of 5.218724 hours\n"
          ]
        }
      ],
      "source": [
        "\n",
        "patterns_start_time <- Sys.time()\n",
        "for(i in 0:1249){\n",
        "  ## Some patterns did not return a value, this could be do to pattern deletion so a try statement is used\n",
        "  pattern_inst <- try(get_patterns(ids = query_data$id[((i*80)+1):((i+1)*80)]))\n",
        "  if(i == 0){\n",
        "    pattern_data = pattern_inst\n",
        "  } else if(i == 1){\n",
        "    pattern_data <- rbind(pattern_data,pattern_inst)\n",
        "  } else{\n",
        "    pattern_data <- rbind(pattern_data,pattern_inst)\n",
        "  }\n",
        "}\n",
        "patterns_end_time <- Sys.time()\n",
        "\n",
        "\n",
        "print(patterns_end_time-patterns_start_time)\n"
      ]
    },
    {
      "cell_type": "markdown",
      "metadata": {},
      "source": [
        "So my estimates were wildly off, the patterns actually took around five hours in order to be unpacked, which left me with a set of data that has dimensions of 99921, 53 in comparison to the 100000, 7 of the query data. There is a difference of about 79 patterns as one of the queried pattern ids seemed to not have been present when trying to convert the ids to a pattern data. My belief is that this pattern was deleted between me querying the pattern ids and converting it into information."
      ]
    },
    {
      "cell_type": "code",
      "execution_count": 52,
      "metadata": {
        "vscode": {
          "languageId": "r"
        }
      },
      "outputs": [
        {
          "data": {
            "text/html": [
              "<style>\n",
              ".list-inline {list-style: none; margin:0; padding: 0}\n",
              ".list-inline>li {display: inline-block}\n",
              ".list-inline>li:not(:last-child)::after {content: \"\\00b7\"; padding: 0 .5ex}\n",
              "</style>\n",
              "<ol class=list-inline><li>99921</li><li>53</li></ol>\n"
            ],
            "text/latex": [
              "\\begin{enumerate*}\n",
              "\\item 99921\n",
              "\\item 53\n",
              "\\end{enumerate*}\n"
            ],
            "text/markdown": [
              "1. 99921\n",
              "2. 53\n",
              "\n",
              "\n"
            ],
            "text/plain": [
              "[1] 99921    53"
            ]
          },
          "metadata": {},
          "output_type": "display_data"
        },
        {
          "data": {
            "text/html": [
              "<style>\n",
              ".list-inline {list-style: none; margin:0; padding: 0}\n",
              ".list-inline>li {display: inline-block}\n",
              ".list-inline>li:not(:last-child)::after {content: \"\\00b7\"; padding: 0 .5ex}\n",
              "</style>\n",
              "<ol class=list-inline><li>100000</li><li>7</li></ol>\n"
            ],
            "text/latex": [
              "\\begin{enumerate*}\n",
              "\\item 100000\n",
              "\\item 7\n",
              "\\end{enumerate*}\n"
            ],
            "text/markdown": [
              "1. 100000\n",
              "2. 7\n",
              "\n",
              "\n"
            ],
            "text/plain": [
              "[1] 100000      7"
            ]
          },
          "metadata": {},
          "output_type": "display_data"
        }
      ],
      "source": [
        "dim(pattern_data)\n",
        "dim(query_data)"
      ]
    },
    {
      "cell_type": "markdown",
      "metadata": {},
      "source": [
        "## Writing the Data to my Computer using JSONlite\n",
        "\n",
        "Anyhow, the next step, which I thought would be easier, would be to write the file to json and then read it in on the data cleaning slide. This proved to be more difficult than I thought for multiple reasons. For one, the files took 4-5 hours to write and read each which became impossible to deal with when the read function started erroring. I re-wrote and re-read the same files and got the same error which leads me to believe there will be a similar issue with one of the patterns corrupting the json when it is being written.\n",
        "\n",
        "I would also like to mention that the reason I'm saving it in a JSON format is due to the presence of nested dataframes. This is because the nested dataframes have a lot of information which can't be stored in a csv format. I'm not sure if writing to csv is faster but I don't have as much of a choice if i'm doing the data cleaning to fix the nested dataframes in another page. So lets split off the text data and save that as a csv and then test the json limit. JSONlite does have parameters in the write and read functions to reduce the data but unnesting is half of what i do in the cleaning so I'm not going to worry about it. Also it may screw up the data and I don't care to take the time to test it.\n"
      ]
    },
    {
      "cell_type": "code",
      "execution_count": 53,
      "metadata": {
        "vscode": {
          "languageId": "r"
        }
      },
      "outputs": [
        {
          "data": {
            "text/html": [
              "<style>\n",
              ".list-inline {list-style: none; margin:0; padding: 0}\n",
              ".list-inline>li {display: inline-block}\n",
              ".list-inline>li:not(:last-child)::after {content: \"\\00b7\"; padding: 0 .5ex}\n",
              "</style>\n",
              "<ol class=list-inline><li>'comments_count'</li><li>'created_at'</li><li>'currency'</li><li>'difficulty_average'</li><li>'difficulty_count'</li><li>'downloadable'</li><li>'favorites_count'</li><li>'free'</li><li>'gauge'</li><li>'gauge_divisor'</li><li>'gauge_pattern'</li><li>'generally_available'</li><li>'has_uk_terminology'</li><li>'has_us_terminology'</li><li>'id'</li><li>'name'</li><li>'pdf_url'</li><li>'permalink'</li><li>'price'</li><li>'projects_count'</li><li>'published'</li><li>'queued_projects_count'</li><li>'rating_average'</li><li>'rating_count'</li><li>'row_gauge'</li><li>'updated_at'</li><li>'url'</li><li>'yardage'</li><li>'yardage_max'</li><li>'personal_attributes'</li><li>'sizes_available'</li><li>'product_id'</li><li>'currency_symbol'</li><li>'ravelry_download'</li><li>'download_location'</li><li>'pdf_in_library'</li><li>'volumes_in_library'</li><li>'gauge_description'</li><li>'yarn_weight_description'</li><li>'yardage_description'</li><li>'pattern_needle_sizes'</li><li>'notes_html'</li><li>'notes'</li><li>'languages'</li><li>'packs'</li><li>'printings'</li><li>'craft'</li><li>'pattern_categories'</li><li>'pattern_attributes'</li><li>'pattern_author'</li><li>'photos'</li><li>'pattern_type'</li><li>'yarn_weight'</li></ol>\n"
            ],
            "text/latex": [
              "\\begin{enumerate*}\n",
              "\\item 'comments\\_count'\n",
              "\\item 'created\\_at'\n",
              "\\item 'currency'\n",
              "\\item 'difficulty\\_average'\n",
              "\\item 'difficulty\\_count'\n",
              "\\item 'downloadable'\n",
              "\\item 'favorites\\_count'\n",
              "\\item 'free'\n",
              "\\item 'gauge'\n",
              "\\item 'gauge\\_divisor'\n",
              "\\item 'gauge\\_pattern'\n",
              "\\item 'generally\\_available'\n",
              "\\item 'has\\_uk\\_terminology'\n",
              "\\item 'has\\_us\\_terminology'\n",
              "\\item 'id'\n",
              "\\item 'name'\n",
              "\\item 'pdf\\_url'\n",
              "\\item 'permalink'\n",
              "\\item 'price'\n",
              "\\item 'projects\\_count'\n",
              "\\item 'published'\n",
              "\\item 'queued\\_projects\\_count'\n",
              "\\item 'rating\\_average'\n",
              "\\item 'rating\\_count'\n",
              "\\item 'row\\_gauge'\n",
              "\\item 'updated\\_at'\n",
              "\\item 'url'\n",
              "\\item 'yardage'\n",
              "\\item 'yardage\\_max'\n",
              "\\item 'personal\\_attributes'\n",
              "\\item 'sizes\\_available'\n",
              "\\item 'product\\_id'\n",
              "\\item 'currency\\_symbol'\n",
              "\\item 'ravelry\\_download'\n",
              "\\item 'download\\_location'\n",
              "\\item 'pdf\\_in\\_library'\n",
              "\\item 'volumes\\_in\\_library'\n",
              "\\item 'gauge\\_description'\n",
              "\\item 'yarn\\_weight\\_description'\n",
              "\\item 'yardage\\_description'\n",
              "\\item 'pattern\\_needle\\_sizes'\n",
              "\\item 'notes\\_html'\n",
              "\\item 'notes'\n",
              "\\item 'languages'\n",
              "\\item 'packs'\n",
              "\\item 'printings'\n",
              "\\item 'craft'\n",
              "\\item 'pattern\\_categories'\n",
              "\\item 'pattern\\_attributes'\n",
              "\\item 'pattern\\_author'\n",
              "\\item 'photos'\n",
              "\\item 'pattern\\_type'\n",
              "\\item 'yarn\\_weight'\n",
              "\\end{enumerate*}\n"
            ],
            "text/markdown": [
              "1. 'comments_count'\n",
              "2. 'created_at'\n",
              "3. 'currency'\n",
              "4. 'difficulty_average'\n",
              "5. 'difficulty_count'\n",
              "6. 'downloadable'\n",
              "7. 'favorites_count'\n",
              "8. 'free'\n",
              "9. 'gauge'\n",
              "10. 'gauge_divisor'\n",
              "11. 'gauge_pattern'\n",
              "12. 'generally_available'\n",
              "13. 'has_uk_terminology'\n",
              "14. 'has_us_terminology'\n",
              "15. 'id'\n",
              "16. 'name'\n",
              "17. 'pdf_url'\n",
              "18. 'permalink'\n",
              "19. 'price'\n",
              "20. 'projects_count'\n",
              "21. 'published'\n",
              "22. 'queued_projects_count'\n",
              "23. 'rating_average'\n",
              "24. 'rating_count'\n",
              "25. 'row_gauge'\n",
              "26. 'updated_at'\n",
              "27. 'url'\n",
              "28. 'yardage'\n",
              "29. 'yardage_max'\n",
              "30. 'personal_attributes'\n",
              "31. 'sizes_available'\n",
              "32. 'product_id'\n",
              "33. 'currency_symbol'\n",
              "34. 'ravelry_download'\n",
              "35. 'download_location'\n",
              "36. 'pdf_in_library'\n",
              "37. 'volumes_in_library'\n",
              "38. 'gauge_description'\n",
              "39. 'yarn_weight_description'\n",
              "40. 'yardage_description'\n",
              "41. 'pattern_needle_sizes'\n",
              "42. 'notes_html'\n",
              "43. 'notes'\n",
              "44. 'languages'\n",
              "45. 'packs'\n",
              "46. 'printings'\n",
              "47. 'craft'\n",
              "48. 'pattern_categories'\n",
              "49. 'pattern_attributes'\n",
              "50. 'pattern_author'\n",
              "51. 'photos'\n",
              "52. 'pattern_type'\n",
              "53. 'yarn_weight'\n",
              "\n",
              "\n"
            ],
            "text/plain": [
              " [1] \"comments_count\"          \"created_at\"             \n",
              " [3] \"currency\"                \"difficulty_average\"     \n",
              " [5] \"difficulty_count\"        \"downloadable\"           \n",
              " [7] \"favorites_count\"         \"free\"                   \n",
              " [9] \"gauge\"                   \"gauge_divisor\"          \n",
              "[11] \"gauge_pattern\"           \"generally_available\"    \n",
              "[13] \"has_uk_terminology\"      \"has_us_terminology\"     \n",
              "[15] \"id\"                      \"name\"                   \n",
              "[17] \"pdf_url\"                 \"permalink\"              \n",
              "[19] \"price\"                   \"projects_count\"         \n",
              "[21] \"published\"               \"queued_projects_count\"  \n",
              "[23] \"rating_average\"          \"rating_count\"           \n",
              "[25] \"row_gauge\"               \"updated_at\"             \n",
              "[27] \"url\"                     \"yardage\"                \n",
              "[29] \"yardage_max\"             \"personal_attributes\"    \n",
              "[31] \"sizes_available\"         \"product_id\"             \n",
              "[33] \"currency_symbol\"         \"ravelry_download\"       \n",
              "[35] \"download_location\"       \"pdf_in_library\"         \n",
              "[37] \"volumes_in_library\"      \"gauge_description\"      \n",
              "[39] \"yarn_weight_description\" \"yardage_description\"    \n",
              "[41] \"pattern_needle_sizes\"    \"notes_html\"             \n",
              "[43] \"notes\"                   \"languages\"              \n",
              "[45] \"packs\"                   \"printings\"              \n",
              "[47] \"craft\"                   \"pattern_categories\"     \n",
              "[49] \"pattern_attributes\"      \"pattern_author\"         \n",
              "[51] \"photos\"                  \"pattern_type\"           \n",
              "[53] \"yarn_weight\"            "
            ]
          },
          "metadata": {},
          "output_type": "display_data"
        }
      ],
      "source": [
        "colnames(pattern_data)"
      ]
    },
    {
      "cell_type": "code",
      "execution_count": 56,
      "metadata": {
        "vscode": {
          "languageId": "r"
        }
      },
      "outputs": [
        {
          "data": {
            "text/html": [
              "<style>\n",
              ".list-inline {list-style: none; margin:0; padding: 0}\n",
              ".list-inline>li {display: inline-block}\n",
              ".list-inline>li:not(:last-child)::after {content: \"\\00b7\"; padding: 0 .5ex}\n",
              "</style>\n",
              "<ol class=list-inline><li>'notes_html'</li><li>'notes'</li></ol>\n"
            ],
            "text/latex": [
              "\\begin{enumerate*}\n",
              "\\item 'notes\\_html'\n",
              "\\item 'notes'\n",
              "\\end{enumerate*}\n"
            ],
            "text/markdown": [
              "1. 'notes_html'\n",
              "2. 'notes'\n",
              "\n",
              "\n"
            ],
            "text/plain": [
              "[1] \"notes_html\" \"notes\"     "
            ]
          },
          "metadata": {},
          "output_type": "display_data"
        },
        {
          "data": {
            "text/html": [
              "<style>\n",
              ".list-inline {list-style: none; margin:0; padding: 0}\n",
              ".list-inline>li {display: inline-block}\n",
              ".list-inline>li:not(:last-child)::after {content: \"\\00b7\"; padding: 0 .5ex}\n",
              "</style>\n",
              "<ol class=list-inline><li>'comments_count'</li><li>'created_at'</li><li>'currency'</li><li>'difficulty_average'</li><li>'difficulty_count'</li><li>'downloadable'</li><li>'favorites_count'</li><li>'free'</li><li>'gauge'</li><li>'gauge_divisor'</li><li>'gauge_pattern'</li><li>'generally_available'</li><li>'has_uk_terminology'</li><li>'has_us_terminology'</li><li>'id'</li><li>'name'</li><li>'pdf_url'</li><li>'permalink'</li><li>'price'</li><li>'projects_count'</li><li>'published'</li><li>'queued_projects_count'</li><li>'rating_average'</li><li>'rating_count'</li><li>'row_gauge'</li><li>'updated_at'</li><li>'url'</li><li>'yardage'</li><li>'yardage_max'</li><li>'personal_attributes'</li><li>'sizes_available'</li><li>'product_id'</li><li>'currency_symbol'</li><li>'ravelry_download'</li><li>'download_location'</li><li>'pdf_in_library'</li><li>'volumes_in_library'</li><li>'gauge_description'</li><li>'yarn_weight_description'</li><li>'yardage_description'</li><li>'pattern_needle_sizes'</li><li>'languages'</li><li>'packs'</li><li>'printings'</li><li>'craft'</li><li>'pattern_categories'</li><li>'pattern_attributes'</li><li>'pattern_author'</li><li>'photos'</li><li>'pattern_type'</li><li>'yarn_weight'</li></ol>\n"
            ],
            "text/latex": [
              "\\begin{enumerate*}\n",
              "\\item 'comments\\_count'\n",
              "\\item 'created\\_at'\n",
              "\\item 'currency'\n",
              "\\item 'difficulty\\_average'\n",
              "\\item 'difficulty\\_count'\n",
              "\\item 'downloadable'\n",
              "\\item 'favorites\\_count'\n",
              "\\item 'free'\n",
              "\\item 'gauge'\n",
              "\\item 'gauge\\_divisor'\n",
              "\\item 'gauge\\_pattern'\n",
              "\\item 'generally\\_available'\n",
              "\\item 'has\\_uk\\_terminology'\n",
              "\\item 'has\\_us\\_terminology'\n",
              "\\item 'id'\n",
              "\\item 'name'\n",
              "\\item 'pdf\\_url'\n",
              "\\item 'permalink'\n",
              "\\item 'price'\n",
              "\\item 'projects\\_count'\n",
              "\\item 'published'\n",
              "\\item 'queued\\_projects\\_count'\n",
              "\\item 'rating\\_average'\n",
              "\\item 'rating\\_count'\n",
              "\\item 'row\\_gauge'\n",
              "\\item 'updated\\_at'\n",
              "\\item 'url'\n",
              "\\item 'yardage'\n",
              "\\item 'yardage\\_max'\n",
              "\\item 'personal\\_attributes'\n",
              "\\item 'sizes\\_available'\n",
              "\\item 'product\\_id'\n",
              "\\item 'currency\\_symbol'\n",
              "\\item 'ravelry\\_download'\n",
              "\\item 'download\\_location'\n",
              "\\item 'pdf\\_in\\_library'\n",
              "\\item 'volumes\\_in\\_library'\n",
              "\\item 'gauge\\_description'\n",
              "\\item 'yarn\\_weight\\_description'\n",
              "\\item 'yardage\\_description'\n",
              "\\item 'pattern\\_needle\\_sizes'\n",
              "\\item 'languages'\n",
              "\\item 'packs'\n",
              "\\item 'printings'\n",
              "\\item 'craft'\n",
              "\\item 'pattern\\_categories'\n",
              "\\item 'pattern\\_attributes'\n",
              "\\item 'pattern\\_author'\n",
              "\\item 'photos'\n",
              "\\item 'pattern\\_type'\n",
              "\\item 'yarn\\_weight'\n",
              "\\end{enumerate*}\n"
            ],
            "text/markdown": [
              "1. 'comments_count'\n",
              "2. 'created_at'\n",
              "3. 'currency'\n",
              "4. 'difficulty_average'\n",
              "5. 'difficulty_count'\n",
              "6. 'downloadable'\n",
              "7. 'favorites_count'\n",
              "8. 'free'\n",
              "9. 'gauge'\n",
              "10. 'gauge_divisor'\n",
              "11. 'gauge_pattern'\n",
              "12. 'generally_available'\n",
              "13. 'has_uk_terminology'\n",
              "14. 'has_us_terminology'\n",
              "15. 'id'\n",
              "16. 'name'\n",
              "17. 'pdf_url'\n",
              "18. 'permalink'\n",
              "19. 'price'\n",
              "20. 'projects_count'\n",
              "21. 'published'\n",
              "22. 'queued_projects_count'\n",
              "23. 'rating_average'\n",
              "24. 'rating_count'\n",
              "25. 'row_gauge'\n",
              "26. 'updated_at'\n",
              "27. 'url'\n",
              "28. 'yardage'\n",
              "29. 'yardage_max'\n",
              "30. 'personal_attributes'\n",
              "31. 'sizes_available'\n",
              "32. 'product_id'\n",
              "33. 'currency_symbol'\n",
              "34. 'ravelry_download'\n",
              "35. 'download_location'\n",
              "36. 'pdf_in_library'\n",
              "37. 'volumes_in_library'\n",
              "38. 'gauge_description'\n",
              "39. 'yarn_weight_description'\n",
              "40. 'yardage_description'\n",
              "41. 'pattern_needle_sizes'\n",
              "42. 'languages'\n",
              "43. 'packs'\n",
              "44. 'printings'\n",
              "45. 'craft'\n",
              "46. 'pattern_categories'\n",
              "47. 'pattern_attributes'\n",
              "48. 'pattern_author'\n",
              "49. 'photos'\n",
              "50. 'pattern_type'\n",
              "51. 'yarn_weight'\n",
              "\n",
              "\n"
            ],
            "text/plain": [
              " [1] \"comments_count\"          \"created_at\"             \n",
              " [3] \"currency\"                \"difficulty_average\"     \n",
              " [5] \"difficulty_count\"        \"downloadable\"           \n",
              " [7] \"favorites_count\"         \"free\"                   \n",
              " [9] \"gauge\"                   \"gauge_divisor\"          \n",
              "[11] \"gauge_pattern\"           \"generally_available\"    \n",
              "[13] \"has_uk_terminology\"      \"has_us_terminology\"     \n",
              "[15] \"id\"                      \"name\"                   \n",
              "[17] \"pdf_url\"                 \"permalink\"              \n",
              "[19] \"price\"                   \"projects_count\"         \n",
              "[21] \"published\"               \"queued_projects_count\"  \n",
              "[23] \"rating_average\"          \"rating_count\"           \n",
              "[25] \"row_gauge\"               \"updated_at\"             \n",
              "[27] \"url\"                     \"yardage\"                \n",
              "[29] \"yardage_max\"             \"personal_attributes\"    \n",
              "[31] \"sizes_available\"         \"product_id\"             \n",
              "[33] \"currency_symbol\"         \"ravelry_download\"       \n",
              "[35] \"download_location\"       \"pdf_in_library\"         \n",
              "[37] \"volumes_in_library\"      \"gauge_description\"      \n",
              "[39] \"yarn_weight_description\" \"yardage_description\"    \n",
              "[41] \"pattern_needle_sizes\"    \"languages\"              \n",
              "[43] \"packs\"                   \"printings\"              \n",
              "[45] \"craft\"                   \"pattern_categories\"     \n",
              "[47] \"pattern_attributes\"      \"pattern_author\"         \n",
              "[49] \"photos\"                  \"pattern_type\"           \n",
              "[51] \"yarn_weight\"            "
            ]
          },
          "metadata": {},
          "output_type": "display_data"
        },
        {
          "data": {
            "text/html": [
              "<style>\n",
              ".list-inline {list-style: none; margin:0; padding: 0}\n",
              ".list-inline>li {display: inline-block}\n",
              ".list-inline>li:not(:last-child)::after {content: \"\\00b7\"; padding: 0 .5ex}\n",
              "</style>\n",
              "<ol class=list-inline><li>99921</li><li>2</li></ol>\n"
            ],
            "text/latex": [
              "\\begin{enumerate*}\n",
              "\\item 99921\n",
              "\\item 2\n",
              "\\end{enumerate*}\n"
            ],
            "text/markdown": [
              "1. 99921\n",
              "2. 2\n",
              "\n",
              "\n"
            ],
            "text/plain": [
              "[1] 99921     2"
            ]
          },
          "metadata": {},
          "output_type": "display_data"
        },
        {
          "data": {
            "text/html": [
              "<style>\n",
              ".list-inline {list-style: none; margin:0; padding: 0}\n",
              ".list-inline>li {display: inline-block}\n",
              ".list-inline>li:not(:last-child)::after {content: \"\\00b7\"; padding: 0 .5ex}\n",
              "</style>\n",
              "<ol class=list-inline><li>99921</li><li>51</li></ol>\n"
            ],
            "text/latex": [
              "\\begin{enumerate*}\n",
              "\\item 99921\n",
              "\\item 51\n",
              "\\end{enumerate*}\n"
            ],
            "text/markdown": [
              "1. 99921\n",
              "2. 51\n",
              "\n",
              "\n"
            ],
            "text/plain": [
              "[1] 99921    51"
            ]
          },
          "metadata": {},
          "output_type": "display_data"
        }
      ],
      "source": [
        "patterns_data_text <- pattern_data %>% select(c(notes_html,notes))\n",
        "patterns_data_no_text <- pattern_data %>% select(-c(notes_html,notes))\n",
        "colnames(patterns_data_text)\n",
        "colnames(patterns_data_no_text)\n",
        "dim(patterns_data_text)\n",
        "dim(patterns_data_no_text)"
      ]
    },
    {
      "cell_type": "code",
      "execution_count": 55,
      "metadata": {
        "vscode": {
          "languageId": "r"
        }
      },
      "outputs": [],
      "source": [
        "write.csv(patterns_data_text, \"../data/patterns_data_text.csv\")\n",
        "## this did not take long enough to make it seem like the culprit for the long write time\n",
        "## also for reference the total JSON with the text data was 1.96 GB"
      ]
    },
    {
      "cell_type": "markdown",
      "metadata": {},
      "source": [
        "So, removing the text data and then writing the rest to CSV took absolutely no time at all. This gives me a better idea of splitting off the nested dataframes I'm interested in and then writing the rest out to a CSV, leaving the nested data frames for JSON to crunch. \n",
        "\n",
        "I will quickly do a time check to see if there is any idea of splitting apart the dataset into chunks like I did for the queries and patterns. I still believe that splitting the nested from the non nested is the best idea but I'd like to cover my bases."
      ]
    },
    {
      "cell_type": "code",
      "execution_count": 59,
      "metadata": {
        "vscode": {
          "languageId": "r"
        }
      },
      "outputs": [
        {
          "ename": "ERROR",
          "evalue": "Error in `[.data.frame`(patterns_data_no_text, 1:((i + 1) * 10)): undefined columns selected\n",
          "output_type": "error",
          "traceback": [
            "Error in `[.data.frame`(patterns_data_no_text, 1:((i + 1) * 10)): undefined columns selected\nTraceback:\n",
            "1. patterns_data_no_text[1:((i + 1) * 10)]",
            "2. `[.data.frame`(patterns_data_no_text, 1:((i + 1) * 10))",
            "3. stop(\"undefined columns selected\")"
          ]
        }
      ],
      "source": [
        "json_times <- c()\n",
        "\n",
        "for(i in 1:10){\n",
        "  data <- patterns_data_no_text[1:((i+1)*10)]\n",
        "  json_start_time <- Sys.time()\n",
        "  json_test <- toJSON(data)\n",
        "  write_json(json_test,\"../data/json_test.JSON\")\n",
        "  json_results_time <- Sys.time()\n",
        "  json_times <- c(json_times,json_results_time - json_start_time)\n",
        "}\n",
        "\n"
      ]
    },
    {
      "cell_type": "code",
      "execution_count": 60,
      "metadata": {
        "vscode": {
          "languageId": "r"
        }
      },
      "outputs": [
        {
          "data": {
            "image/png": "[encoded data removed]",
            "text/plain": [
              "plot without title"
            ]
          },
          "metadata": {
            "image/png": {
              "height": 420,
              "width": 420
            }
          },
          "output_type": "display_data"
        }
      ],
      "source": [
        "plot(json_times)"
      ]
    },
    {
      "cell_type": "markdown",
      "metadata": {},
      "source": [
        "Yeah that doesn't help at all.\n",
        "\n",
        "Anway, the splitting of the text data was so successful that I think that I will do the same for all of the non-nested data. I'll save all the non nested data to a csv and the nested data to a json file that hopefully will be easier to process. I will also use this chance to prune some of the nested dataframes I will not be using in my analysis. It is a bit of data cleaning but I've already done more work on this than I thought to it will hopefully be alright.\n",
        "\n",
        "I will be separating the following nested columns:  \n",
        "download_location  \\\n",
        "pattern_needle_sizes\\\n",
        "languages\\\n",
        "packs\\\n",
        "printings\\\n",
        "craft\\\n",
        "pattern_categories\\\n",
        "pattern_attributes\\\n",
        "pattern_author\\\n",
        "photos\\\n",
        "pattern_type\\\n",
        "\n",
        "Of which I will only keep:\n",
        "pattern_needle_sizes\\\n",
        "craft\\\n",
        "pattern_categories\\\n",
        "pattern_attributes\\\n",
        "pattern_type\\\n",
        "\n",
        "The rest could be useful for future use but not for the analysis I intend to use.\n"
      ]
    },
    {
      "cell_type": "code",
      "execution_count": 62,
      "metadata": {
        "vscode": {
          "languageId": "r"
        }
      },
      "outputs": [],
      "source": [
        "patterns_to_csv <- patterns_data_no_text %>% select(-c(download_location,\n",
        "    pattern_needle_sizes,\n",
        "    languages,\n",
        "    packs,\n",
        "    printings,\n",
        "    craft,\n",
        "    pattern_categories,\n",
        "    pattern_attributes,\n",
        "    pattern_author,\n",
        "    photos,\n",
        "    pattern_type))\n",
        "\n",
        "patterns_to_json <- patterns_data_no_text %>% select(c(pattern_needle_sizes,\n",
        "    craft,\n",
        "    pattern_categories,\n",
        "    pattern_attributes,\n",
        "    pattern_type))"
      ]
    },
    {
      "cell_type": "code",
      "execution_count": 63,
      "metadata": {
        "vscode": {
          "languageId": "r"
        }
      },
      "outputs": [],
      "source": [
        "write_csv(patterns_to_csv,\"../data/patterns_to_csv.csv\")"
      ]
    },
    {
      "cell_type": "markdown",
      "metadata": {},
      "source": [
        "So writing that all to csv took five seconds while the json took 5 hours. I probably should have been doing this from the start."
      ]
    },
    {
      "cell_type": "code",
      "execution_count": 65,
      "metadata": {
        "vscode": {
          "languageId": "r"
        }
      },
      "outputs": [
        {
          "data": {
            "text/html": [
              "TRUE"
            ],
            "text/latex": [
              "TRUE"
            ],
            "text/markdown": [
              "TRUE"
            ],
            "text/plain": [
              "[1] TRUE"
            ]
          },
          "metadata": {},
          "output_type": "display_data"
        }
      ],
      "source": [
        "\n",
        "patterns_json <- toJSON(patterns_to_json)\n",
        "validate(patterns_json)\n",
        "#write_json(patterns_json,\"../data/pattern_data_raw.JSON\")"
      ]
    },
    {
      "cell_type": "code",
      "execution_count": 69,
      "metadata": {
        "vscode": {
          "languageId": "r"
        }
      },
      "outputs": [],
      "source": [
        "## Here goes nothing\n",
        "write_json(patterns_json,\"../data/pattern_data_json.JSON\")"
      ]
    },
    {
      "cell_type": "markdown",
      "metadata": {},
      "source": [
        "And so after the hours it took to write the json of the full text, just doing it with the nested dataframes only took one second. I would have saved some of my sanity if I had done this from the start."
      ]
    },
    {
      "cell_type": "markdown",
      "metadata": {},
      "source": [
        "#### Summary of Situation\n",
        "\n",
        "I'm hoping to optimize this process, going forward I'll use a lower amount of data to do a proof of concept data cleaning step without the full data I hope to analyze. Here is a quick sense of what we're working with. It's a bit messy as a JSON but the data cleaning should improve the outcome and look."
      ]
    },
    {
      "cell_type": "code",
      "execution_count": null,
      "metadata": {
        "vscode": {
          "languageId": "r"
        }
      },
      "outputs": [],
      "source": [
        "#patterns_json <- read_json(\"../data/pattern_data_raw.JSON\")\n",
        "#prettify(patterns_json[[1]])"
      ]
    },
    {
      "cell_type": "markdown",
      "metadata": {},
      "source": [
        "## Conclusion\n",
        "\n",
        "Overall, I was left with a csv of raw pattern data with 99,979 entries. This process was a path of references and interest in order to collect the data. Next I will be processing the data by stripping unwanted variables and splitting tuples that exist within the dataframe structure. In the future I will continue to update my query optimization process to not overload the system and be able to maximize the amount of documents I receive in the process.\n"
      ]
    }
  ],
  "metadata": {
    "kernelspec": {
      "display_name": "R",
      "language": "R",
      "name": "ir"
    },
    "language_info": {
      "codemirror_mode": "r",
      "file_extension": ".r",
      "mimetype": "text/x-r-source",
      "name": "R",
      "pygments_lexer": "r",
      "version": "4.3.1"
    }
  },
  "nbformat": 4,
  "nbformat_minor": 4
}

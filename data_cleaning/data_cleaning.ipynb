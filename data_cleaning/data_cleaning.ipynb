{
  "cells": [
    {
      "cell_type": "raw",
      "metadata": {},
      "source": [
        "---\n",
        "title: Data Cleaning\n",
        "author: Powell Sheagren\n",
        "format:\n",
        "  html:\n",
        "    embed-resources: true\n",
        "    code-fold: true\n",
        "---"
      ]
    },
    {
      "cell_type": "code",
      "execution_count": null,
      "metadata": {
        "vscode": {
          "languageId": "r"
        }
      },
      "outputs": [],
      "source": [
        "library(tidyverse)\n",
        "library(jsonlite)\n",
        "library(reticulate)\n",
        "library(ravelRy)\n",
        "library(IRkernel)\n",
        "library(plyr)\n",
        "library(dplyr)\n",
        "use_condaenv(\"C:/Users/duckd/anaconda3/python.exe\")"
      ]
    },
    {
      "cell_type": "markdown",
      "metadata": {},
      "source": [
        "## Introduction\n",
        "\n",
        "This tab will go through my process of cleaning and prepping the raw data which I captures on the previous data gathering tab. I go through a few different steps and methods and eventually end up with a representative data frame.\n",
        "\n",
        "## Contents\n",
        "- Inserting data\n",
        "- Removing unnecessary columns\n",
        "- Splitting nested data frames\n",
        "- Type casting and column renaming\n",
        "- Conclusion\n",
        "\n",
        "## Inserting Data\n",
        "\n",
        "This step is the easiest and just requires loading the document saved from the data collection phase and reconverting it to a data frame. There was only a slight complication in that when it reads in the file it takes the whole json and nests it in an array, so in order to convert back we have to double index. I'm also going to run a quick distinct function in case of repeated data."
      ]
    },
    {
      "cell_type": "code",
      "execution_count": 2,
      "metadata": {
        "vscode": {
          "languageId": "r"
        }
      },
      "outputs": [],
      "source": [
        "## Importing data\n",
        "patterns_nested_json <- read_json(\"../data/pattern_data_json.JSON\")\n",
        "patterns_nested_df <- fromJSON(patterns_nested_json[[1]])\n",
        "pattern_data_csv <- read.csv(\"../data/patterns_to_csv.csv\")\n",
        "pattern_text_csv <- read.csv(\"../data/patterns_data_text.csv\")"
      ]
    },
    {
      "cell_type": "markdown",
      "metadata": {},
      "source": [
        "## Removing Unneeded Columns\n",
        "\n",
        "There are many different data points which were collected with the get_patterns function. Many of them are specific to identification or excess date information about when patterns were created which I may include later but will remove for now. I'm generally looking for information about the needles and yarn needed which includes type or size on both metrics. The other information I hope to get is the pattern type which has entries such as hat, scarf, towel, dishcloth, etc. There aren't many of those patterns which is why to get significant amounts I aim to get large amounts of data. So, on this first step I will list all of the columns and then select the ones I'm interested in. "
      ]
    },
    {
      "cell_type": "code",
      "execution_count": 3,
      "metadata": {
        "vscode": {
          "languageId": "r"
        }
      },
      "outputs": [
        {
          "data": {
            "text/html": [
              "<style>\n",
              ".list-inline {list-style: none; margin:0; padding: 0}\n",
              ".list-inline>li {display: inline-block}\n",
              ".list-inline>li:not(:last-child)::after {content: \"\\00b7\"; padding: 0 .5ex}\n",
              "</style>\n",
              "<ol class=list-inline><li>99921</li><li>23</li></ol>\n"
            ],
            "text/latex": [
              "\\begin{enumerate*}\n",
              "\\item 99921\n",
              "\\item 23\n",
              "\\end{enumerate*}\n"
            ],
            "text/markdown": [
              "1. 99921\n",
              "2. 23\n",
              "\n",
              "\n"
            ],
            "text/plain": [
              "[1] 99921    23"
            ]
          },
          "metadata": {},
          "output_type": "display_data"
        }
      ],
      "source": [
        "patterns_df <- pattern_data_csv %>% select(c(\"comments_count\", # metric of interest\n",
        "  \"currency\", \"price\",\"currency_symbol\",\"free\", # financial aspects\n",
        "  \"published\", # when the pattern was published\n",
        "  \"difficulty_average\", # recorded difficulty average\n",
        "  \"favorites_count\", \"projects_count\", \"queued_projects_count\", # other metrics of interest\n",
        "  \"gauge\", \"gauge_divisor\", \"gauge_pattern\",\"row_gauge\", # technical gauge aspects\n",
        "  \"id\", \"name\", \"permalink\", # referencing information\n",
        "  \"rating_average\",\"rating_count\", # ratings information\n",
        "  \"yardage\",\"yardage_max\",\"yarn_weight_description\", # amount and weight of yarn required for pattern\n",
        "  \"yarn_weight\", # nested dataframe with weight information, could be redundant\n",
        "))\n",
        "\n",
        "dim(patterns_df)"
      ]
    },
    {
      "cell_type": "markdown",
      "metadata": {},
      "source": [
        "Variables were dropped for a couple of reasons. Some had excessive amounts of irrelevant information like the photos column (dropped in data gathering) or were too internally different for analysis like the sizes_available (dropped in data gathering) which was entered differently each time. Many were booleans relating to pattern availability which was irrelevant to a detailed database. Others, lastly, were redundant information which repackaged other variables; in these cases I used the columns that already had the original data instead of the combination. This saved me a few steps here and there. Overall, I have dropped from an initial column amount of 53 to 30, however this amount may increase as I start to expand some of the nested data frames.\n",
        "\n",
        "\n",
        "## Splitting Simpler Nested Dataframes\n",
        "\n",
        "Out of all of the nested dataframes there are some which just contain 3 columns of ids, values, or other without multiple rows. These I hope to go through and represent as a couple of columns. The other more dense nested dataframes will be parsed later as those often have a couple layers or many more options of data. I will start looking at instances of all the nested data frames."
      ]
    },
    {
      "cell_type": "markdown",
      "metadata": {},
      "source": []
    },
    {
      "cell_type": "code",
      "execution_count": 4,
      "metadata": {
        "vscode": {
          "languageId": "r"
        }
      },
      "outputs": [
        {
          "data": {
            "text/html": [
              "<table class=\"dataframe\">\n",
              "<caption>A data.frame: 6 × 5</caption>\n",
              "<thead>\n",
              "\t<tr><th></th><th scope=col>pattern_needle_sizes</th><th scope=col>craft</th><th scope=col>pattern_categories</th><th scope=col>pattern_attributes</th><th scope=col>pattern_type</th></tr>\n",
              "\t<tr><th></th><th scope=col>&lt;list&gt;</th><th scope=col>&lt;list&gt;</th><th scope=col>&lt;list&gt;</th><th scope=col>&lt;list&gt;</th><th scope=col>&lt;list&gt;</th></tr>\n",
              "</thead>\n",
              "<tbody>\n",
              "\t<tr><th scope=row>1</th><td>7             , 7             , 4.5           ,               , FALSE         , TRUE          ,               , US 7  - 4.5 mm, 4.5           </td><td>2       , Knitting, knitting</td><td>895              , Other            , other-accessories, 337              , Accessories      , accessories      , 301              , Categories       , categories       </td><td>265              , 267              , 311              , chart            , written-pattern  , stripes-colorwork</td><td>FALSE, 9    , Other, other</td></tr>\n",
              "\t<tr><th scope=row>2</th><td>2          , 2.0        , 2.75       , 1          , TRUE       , FALSE      , C          , 2.75 mm (C), 2.75       </td><td>1      , Crochet, crochet</td><td>306       , Pullover  , pullover  , 319       , Sweater   , sweater   , 302       , Clothing  , clothing  , 301       , Categories, categories</td><td>62             , 114            , 150            , 265            , 267            , lace           , sleeves        , straight       , chart          , written-pattern</td><td>TRUE    , 4       , Pullover, pullover</td></tr>\n",
              "\t<tr><th scope=row>3</th><td>5              , 7              , 5              , 7              , 3.75           , 4.5            ,                ,                , FALSE          , FALSE          , TRUE           , TRUE           , F              ,                , US 5  - 3.75 mm, US 7  - 4.5 mm , 3.75           , 4.5            </td><td>2       , Knitting, knitting</td><td>306       , Pullover  , pullover  , 319       , Sweater   , sweater   , 302       , Clothing  , clothing  , 301       , Categories, categories</td><td>3              , 10             , 181            , 205            , 211            , 257            , 265            , 267            , 286            , 88             , unisex         , adult          , stranded       , seamless       , top-down       , positive-ease  , chart          , written-pattern, in-the-round   , circular-yoke  </td><td>TRUE    , 4       , Pullover, pullover</td></tr>\n",
              "\t<tr><th scope=row>4</th><td>9             , 9             , 5.5           ,               , FALSE         , TRUE          , I             , US 9  - 5.5 mm, 5.5           </td><td>2       , Knitting, knitting</td><td>306       , Pullover  , pullover  , 319       , Sweater   , sweater   , 302       , Clothing  , clothing  , 301       , Categories, categories</td><td>1                , 3                , 9                , 10               , 64               , 66               , 91               , 150              , 204              , 205              , 211              , 257              , 267              , 285              , 286              , 311              , male             , unisex           , teen             , adult            , ribbed           , stripes          , boat-neck        , straight         , one-piece        , seamless         , top-down         , positive-ease    , written-pattern  , worked-flat      , in-the-round     , stripes-colorwork</td><td>TRUE    , 4       , Pullover, pullover</td></tr>\n",
              "\t<tr><th scope=row>5</th><td>21            , 20            , 9             , 1½            , 2½            , 9             , 2.5           , 3             , 5.5           ,               ,               ,               , FALSE         , FALSE         , FALSE         , TRUE          , TRUE          , TRUE          ,               ,               , I             , US 1½ - 2.5 mm, US 2½ - 3.0 mm, US 9  - 5.5 mm, 2.5           , 3             , 5.5           </td><td>2       , Knitting, knitting</td><td>339         , Scarf       , scarf       , 338         , Neck / Torso, neck-torso  , 337         , Accessories , accessories , 301         , Categories  , categories  </td><td>8              , 10             , 64             , 267            , 268            , 285            , child          , adult          , ribbed         , written-pattern, video-tutorial , worked-flat    </td><td>TRUE , 1    , Scarf, scarf</td></tr>\n",
              "\t<tr><th scope=row>6</th><td>7             , 7             , 4.5           ,               , FALSE         , TRUE          ,               , US 7  - 4.5 mm, 4.5           </td><td>2       , Knitting, knitting</td><td>306       , Pullover  , pullover  , 319       , Sweater   , sweater   , 302       , Clothing  , clothing  , 301       , Categories, categories</td><td>2              , 10             , 18             , 86             , 103            , 267            , 285            , 295            , female         , adult          , fitted         , seamed         , scoop-neck     , written-pattern, worked-flat    , other-edging   </td><td>TRUE    , 4       , Pullover, pullover</td></tr>\n",
              "</tbody>\n",
              "</table>\n"
            ],
            "text/latex": [
              "A data.frame: 6 × 5\n",
              "\\begin{tabular}{r|lllll}\n",
              "  & pattern\\_needle\\_sizes & craft & pattern\\_categories & pattern\\_attributes & pattern\\_type\\\\\n",
              "  & <list> & <list> & <list> & <list> & <list>\\\\\n",
              "\\hline\n",
              "\t1 & 7             , 7             , 4.5           ,               , FALSE         , TRUE          ,               , US 7  - 4.5 mm, 4.5            & 2       , Knitting, knitting & 895              , Other            , other-accessories, 337              , Accessories      , accessories      , 301              , Categories       , categories        & 265              , 267              , 311              , chart            , written-pattern  , stripes-colorwork & FALSE, 9    , Other, other\\\\\n",
              "\t2 & 2          , 2.0        , 2.75       , 1          , TRUE       , FALSE      , C          , 2.75 mm (C), 2.75        & 1      , Crochet, crochet & 306       , Pullover  , pullover  , 319       , Sweater   , sweater   , 302       , Clothing  , clothing  , 301       , Categories, categories & 62             , 114            , 150            , 265            , 267            , lace           , sleeves        , straight       , chart          , written-pattern & TRUE    , 4       , Pullover, pullover\\\\\n",
              "\t3 & 5              , 7              , 5              , 7              , 3.75           , 4.5            ,                ,                , FALSE          , FALSE          , TRUE           , TRUE           , F              ,                , US 5  - 3.75 mm, US 7  - 4.5 mm , 3.75           , 4.5             & 2       , Knitting, knitting & 306       , Pullover  , pullover  , 319       , Sweater   , sweater   , 302       , Clothing  , clothing  , 301       , Categories, categories & 3              , 10             , 181            , 205            , 211            , 257            , 265            , 267            , 286            , 88             , unisex         , adult          , stranded       , seamless       , top-down       , positive-ease  , chart          , written-pattern, in-the-round   , circular-yoke   & TRUE    , 4       , Pullover, pullover\\\\\n",
              "\t4 & 9             , 9             , 5.5           ,               , FALSE         , TRUE          , I             , US 9  - 5.5 mm, 5.5            & 2       , Knitting, knitting & 306       , Pullover  , pullover  , 319       , Sweater   , sweater   , 302       , Clothing  , clothing  , 301       , Categories, categories & 1                , 3                , 9                , 10               , 64               , 66               , 91               , 150              , 204              , 205              , 211              , 257              , 267              , 285              , 286              , 311              , male             , unisex           , teen             , adult            , ribbed           , stripes          , boat-neck        , straight         , one-piece        , seamless         , top-down         , positive-ease    , written-pattern  , worked-flat      , in-the-round     , stripes-colorwork & TRUE    , 4       , Pullover, pullover\\\\\n",
              "\t5 & 21            , 20            , 9             , 1½            , 2½            , 9             , 2.5           , 3             , 5.5           ,               ,               ,               , FALSE         , FALSE         , FALSE         , TRUE          , TRUE          , TRUE          ,               ,               , I             , US 1½ - 2.5 mm, US 2½ - 3.0 mm, US 9  - 5.5 mm, 2.5           , 3             , 5.5            & 2       , Knitting, knitting & 339         , Scarf       , scarf       , 338         , Neck / Torso, neck-torso  , 337         , Accessories , accessories , 301         , Categories  , categories   & 8              , 10             , 64             , 267            , 268            , 285            , child          , adult          , ribbed         , written-pattern, video-tutorial , worked-flat     & TRUE , 1    , Scarf, scarf\\\\\n",
              "\t6 & 7             , 7             , 4.5           ,               , FALSE         , TRUE          ,               , US 7  - 4.5 mm, 4.5            & 2       , Knitting, knitting & 306       , Pullover  , pullover  , 319       , Sweater   , sweater   , 302       , Clothing  , clothing  , 301       , Categories, categories & 2              , 10             , 18             , 86             , 103            , 267            , 285            , 295            , female         , adult          , fitted         , seamed         , scoop-neck     , written-pattern, worked-flat    , other-edging    & TRUE    , 4       , Pullover, pullover\\\\\n",
              "\\end{tabular}\n"
            ],
            "text/markdown": [
              "\n",
              "A data.frame: 6 × 5\n",
              "\n",
              "| <!--/--> | pattern_needle_sizes &lt;list&gt; | craft &lt;list&gt; | pattern_categories &lt;list&gt; | pattern_attributes &lt;list&gt; | pattern_type &lt;list&gt; |\n",
              "|---|---|---|---|---|---|\n",
              "| 1 | 7             , 7             , 4.5           ,               , FALSE         , TRUE          ,               , US 7  - 4.5 mm, 4.5            | 2       , Knitting, knitting | 895              , Other            , other-accessories, 337              , Accessories      , accessories      , 301              , Categories       , categories        | 265              , 267              , 311              , chart            , written-pattern  , stripes-colorwork | FALSE, 9    , Other, other |\n",
              "| 2 | 2          , 2.0        , 2.75       , 1          , TRUE       , FALSE      , C          , 2.75 mm (C), 2.75        | 1      , Crochet, crochet | 306       , Pullover  , pullover  , 319       , Sweater   , sweater   , 302       , Clothing  , clothing  , 301       , Categories, categories | 62             , 114            , 150            , 265            , 267            , lace           , sleeves        , straight       , chart          , written-pattern | TRUE    , 4       , Pullover, pullover |\n",
              "| 3 | 5              , 7              , 5              , 7              , 3.75           , 4.5            ,                ,                , FALSE          , FALSE          , TRUE           , TRUE           , F              ,                , US 5  - 3.75 mm, US 7  - 4.5 mm , 3.75           , 4.5             | 2       , Knitting, knitting | 306       , Pullover  , pullover  , 319       , Sweater   , sweater   , 302       , Clothing  , clothing  , 301       , Categories, categories | 3              , 10             , 181            , 205            , 211            , 257            , 265            , 267            , 286            , 88             , unisex         , adult          , stranded       , seamless       , top-down       , positive-ease  , chart          , written-pattern, in-the-round   , circular-yoke   | TRUE    , 4       , Pullover, pullover |\n",
              "| 4 | 9             , 9             , 5.5           ,               , FALSE         , TRUE          , I             , US 9  - 5.5 mm, 5.5            | 2       , Knitting, knitting | 306       , Pullover  , pullover  , 319       , Sweater   , sweater   , 302       , Clothing  , clothing  , 301       , Categories, categories | 1                , 3                , 9                , 10               , 64               , 66               , 91               , 150              , 204              , 205              , 211              , 257              , 267              , 285              , 286              , 311              , male             , unisex           , teen             , adult            , ribbed           , stripes          , boat-neck        , straight         , one-piece        , seamless         , top-down         , positive-ease    , written-pattern  , worked-flat      , in-the-round     , stripes-colorwork | TRUE    , 4       , Pullover, pullover |\n",
              "| 5 | 21            , 20            , 9             , 1½            , 2½            , 9             , 2.5           , 3             , 5.5           ,               ,               ,               , FALSE         , FALSE         , FALSE         , TRUE          , TRUE          , TRUE          ,               ,               , I             , US 1½ - 2.5 mm, US 2½ - 3.0 mm, US 9  - 5.5 mm, 2.5           , 3             , 5.5            | 2       , Knitting, knitting | 339         , Scarf       , scarf       , 338         , Neck / Torso, neck-torso  , 337         , Accessories , accessories , 301         , Categories  , categories   | 8              , 10             , 64             , 267            , 268            , 285            , child          , adult          , ribbed         , written-pattern, video-tutorial , worked-flat     | TRUE , 1    , Scarf, scarf |\n",
              "| 6 | 7             , 7             , 4.5           ,               , FALSE         , TRUE          ,               , US 7  - 4.5 mm, 4.5            | 2       , Knitting, knitting | 306       , Pullover  , pullover  , 319       , Sweater   , sweater   , 302       , Clothing  , clothing  , 301       , Categories, categories | 2              , 10             , 18             , 86             , 103            , 267            , 285            , 295            , female         , adult          , fitted         , seamed         , scoop-neck     , written-pattern, worked-flat    , other-edging    | TRUE    , 4       , Pullover, pullover |\n",
              "\n"
            ],
            "text/plain": [
              "  pattern_needle_sizes                                                                                                                                                                                                                                                                                                                                                                                                                          \n",
              "1 7             , 7             , 4.5           ,               , FALSE         , TRUE          ,               , US 7  - 4.5 mm, 4.5                                                                                                                                                                                                                                                                                                           \n",
              "2 2          , 2.0        , 2.75       , 1          , TRUE       , FALSE      , C          , 2.75 mm (C), 2.75                                                                                                                                                                                                                                                                                                                                  \n",
              "3 5              , 7              , 5              , 7              , 3.75           , 4.5            ,                ,                , FALSE          , FALSE          , TRUE           , TRUE           , F              ,                , US 5  - 3.75 mm, US 7  - 4.5 mm , 3.75           , 4.5                                                                                                                                          \n",
              "4 9             , 9             , 5.5           ,               , FALSE         , TRUE          , I             , US 9  - 5.5 mm, 5.5                                                                                                                                                                                                                                                                                                           \n",
              "5 21            , 20            , 9             , 1½            , 2½            , 9             , 2.5           , 3             , 5.5           ,               ,               ,               , FALSE         , FALSE         , FALSE         , TRUE          , TRUE          , TRUE          ,               ,               , I             , US 1½ - 2.5 mm, US 2½ - 3.0 mm, US 9  - 5.5 mm, 2.5           , 3             , 5.5           \n",
              "6 7             , 7             , 4.5           ,               , FALSE         , TRUE          ,               , US 7  - 4.5 mm, 4.5                                                                                                                                                                                                                                                                                                           \n",
              "  craft                       \n",
              "1 2       , Knitting, knitting\n",
              "2 1      , Crochet, crochet   \n",
              "3 2       , Knitting, knitting\n",
              "4 2       , Knitting, knitting\n",
              "5 2       , Knitting, knitting\n",
              "6 2       , Knitting, knitting\n",
              "  pattern_categories                                                                                                                                                       \n",
              "1 895              , Other            , other-accessories, 337              , Accessories      , accessories      , 301              , Categories       , categories       \n",
              "2 306       , Pullover  , pullover  , 319       , Sweater   , sweater   , 302       , Clothing  , clothing  , 301       , Categories, categories                           \n",
              "3 306       , Pullover  , pullover  , 319       , Sweater   , sweater   , 302       , Clothing  , clothing  , 301       , Categories, categories                           \n",
              "4 306       , Pullover  , pullover  , 319       , Sweater   , sweater   , 302       , Clothing  , clothing  , 301       , Categories, categories                           \n",
              "5 339         , Scarf       , scarf       , 338         , Neck / Torso, neck-torso  , 337         , Accessories , accessories , 301         , Categories  , categories     \n",
              "6 306       , Pullover  , pullover  , 319       , Sweater   , sweater   , 302       , Clothing  , clothing  , 301       , Categories, categories                           \n",
              "  pattern_attributes                                                                                                                                                                                                                                                                                                                                                                                                                                                                                                                                                                                                            \n",
              "1 265              , 267              , 311              , chart            , written-pattern  , stripes-colorwork                                                                                                                                                                                                                                                                                                                                                                                                                                                                                                              \n",
              "2 62             , 114            , 150            , 265            , 267            , lace           , sleeves        , straight       , chart          , written-pattern                                                                                                                                                                                                                                                                                                                                                                                                                                                      \n",
              "3 3              , 10             , 181            , 205            , 211            , 257            , 265            , 267            , 286            , 88             , unisex         , adult          , stranded       , seamless       , top-down       , positive-ease  , chart          , written-pattern, in-the-round   , circular-yoke                                                                                                                                                                                                                                                                              \n",
              "4 1                , 3                , 9                , 10               , 64               , 66               , 91               , 150              , 204              , 205              , 211              , 257              , 267              , 285              , 286              , 311              , male             , unisex           , teen             , adult            , ribbed           , stripes          , boat-neck        , straight         , one-piece        , seamless         , top-down         , positive-ease    , written-pattern  , worked-flat      , in-the-round     , stripes-colorwork\n",
              "5 8              , 10             , 64             , 267            , 268            , 285            , child          , adult          , ribbed         , written-pattern, video-tutorial , worked-flat                                                                                                                                                                                                                                                                                                                                                                                                                        \n",
              "6 2              , 10             , 18             , 86             , 103            , 267            , 285            , 295            , female         , adult          , fitted         , seamed         , scoop-neck     , written-pattern, worked-flat    , other-edging                                                                                                                                                                                                                                                                                                                                                   \n",
              "  pattern_type                          \n",
              "1 FALSE, 9    , Other, other            \n",
              "2 TRUE    , 4       , Pullover, pullover\n",
              "3 TRUE    , 4       , Pullover, pullover\n",
              "4 TRUE    , 4       , Pullover, pullover\n",
              "5 TRUE , 1    , Scarf, scarf            \n",
              "6 TRUE    , 4       , Pullover, pullover"
            ]
          },
          "metadata": {},
          "output_type": "display_data"
        },
        {
          "data": {
            "text/html": [
              "<style>\n",
              ".list-inline {list-style: none; margin:0; padding: 0}\n",
              ".list-inline>li {display: inline-block}\n",
              ".list-inline>li:not(:last-child)::after {content: \"\\00b7\"; padding: 0 .5ex}\n",
              "</style>\n",
              "<ol class=list-inline><li>99921</li><li>5</li></ol>\n"
            ],
            "text/latex": [
              "\\begin{enumerate*}\n",
              "\\item 99921\n",
              "\\item 5\n",
              "\\end{enumerate*}\n"
            ],
            "text/markdown": [
              "1. 99921\n",
              "2. 5\n",
              "\n",
              "\n"
            ],
            "text/plain": [
              "[1] 99921     5"
            ]
          },
          "metadata": {},
          "output_type": "display_data"
        },
        {
          "data": {
            "text/html": [
              "<style>\n",
              ".list-inline {list-style: none; margin:0; padding: 0}\n",
              ".list-inline>li {display: inline-block}\n",
              ".list-inline>li:not(:last-child)::after {content: \"\\00b7\"; padding: 0 .5ex}\n",
              "</style>\n",
              "<ol class=list-inline><li>99921</li><li>29</li></ol>\n"
            ],
            "text/latex": [
              "\\begin{enumerate*}\n",
              "\\item 99921\n",
              "\\item 29\n",
              "\\end{enumerate*}\n"
            ],
            "text/markdown": [
              "1. 99921\n",
              "2. 29\n",
              "\n",
              "\n"
            ],
            "text/plain": [
              "[1] 99921    29"
            ]
          },
          "metadata": {},
          "output_type": "display_data"
        }
      ],
      "source": [
        "head(patterns_nested_df)\n",
        "dim(patterns_nested_df)\n",
        "patterns_df_denest <- cbind(patterns_df,patterns_nested_df,pattern_text_csv$notes)\n",
        "dim(patterns_df_denest)"
      ]
    },
    {
      "cell_type": "markdown",
      "metadata": {},
      "source": [
        "Overall the path forward here is to collapse the columns instance by instance and then filter out redundant information while keeping some identification for potential merge.\n",
        "\n",
        "#### Pattern_needle_sizes\n",
        "\n",
        "For pattern_needle_size we can record both crochet and knit values and then clear out redundant information. In this process we somehow lost a couple data entries, I'll look into this and just blast through the rest. I added a distinct because some patterns had multiple needles sets but I don't really care so I'll just take one of them at random."
      ]
    },
    {
      "cell_type": "code",
      "execution_count": 5,
      "metadata": {
        "vscode": {
          "languageId": "r"
        }
      },
      "outputs": [
        {
          "data": {
            "text/html": [
              "<ol>\n",
              "\t<li><table class=\"dataframe\">\n",
              "<caption>A data.frame: 3 × 9</caption>\n",
              "<thead>\n",
              "\t<tr><th></th><th scope=col>id</th><th scope=col>us</th><th scope=col>metric</th><th scope=col>us_steel</th><th scope=col>crochet</th><th scope=col>knitting</th><th scope=col>hook</th><th scope=col>name</th><th scope=col>pretty_metric</th></tr>\n",
              "\t<tr><th></th><th scope=col>&lt;int&gt;</th><th scope=col>&lt;chr&gt;</th><th scope=col>&lt;dbl&gt;</th><th scope=col>&lt;chr&gt;</th><th scope=col>&lt;lgl&gt;</th><th scope=col>&lt;lgl&gt;</th><th scope=col>&lt;chr&gt;</th><th scope=col>&lt;chr&gt;</th><th scope=col>&lt;chr&gt;</th></tr>\n",
              "</thead>\n",
              "<tbody>\n",
              "\t<tr><th scope=row>1</th><td>21</td><td>1½</td><td>2.5</td><td></td><td>FALSE</td><td>TRUE</td><td> </td><td>US 1½ - 2.5 mm</td><td>2.5</td></tr>\n",
              "\t<tr><th scope=row>2</th><td>20</td><td>2½</td><td>3.0</td><td></td><td>FALSE</td><td>TRUE</td><td> </td><td>US 2½ - 3.0 mm</td><td>3  </td></tr>\n",
              "\t<tr><th scope=row>3</th><td> 9</td><td>9 </td><td>5.5</td><td></td><td>FALSE</td><td>TRUE</td><td>I</td><td>US 9  - 5.5 mm</td><td>5.5</td></tr>\n",
              "</tbody>\n",
              "</table>\n",
              "</li>\n",
              "</ol>\n"
            ],
            "text/latex": [
              "\\begin{enumerate}\n",
              "\\item A data.frame: 3 × 9\n",
              "\\begin{tabular}{r|lllllllll}\n",
              "  & id & us & metric & us\\_steel & crochet & knitting & hook & name & pretty\\_metric\\\\\n",
              "  & <int> & <chr> & <dbl> & <chr> & <lgl> & <lgl> & <chr> & <chr> & <chr>\\\\\n",
              "\\hline\n",
              "\t1 & 21 & 1½ & 2.5 &  & FALSE & TRUE &   & US 1½ - 2.5 mm & 2.5\\\\\n",
              "\t2 & 20 & 2½ & 3.0 &  & FALSE & TRUE &   & US 2½ - 3.0 mm & 3  \\\\\n",
              "\t3 &  9 & 9  & 5.5 &  & FALSE & TRUE & I & US 9  - 5.5 mm & 5.5\\\\\n",
              "\\end{tabular}\n",
              "\n",
              "\\end{enumerate}\n"
            ],
            "text/markdown": [
              "1. \n",
              "A data.frame: 3 × 9\n",
              "\n",
              "| <!--/--> | id &lt;int&gt; | us &lt;chr&gt; | metric &lt;dbl&gt; | us_steel &lt;chr&gt; | crochet &lt;lgl&gt; | knitting &lt;lgl&gt; | hook &lt;chr&gt; | name &lt;chr&gt; | pretty_metric &lt;chr&gt; |\n",
              "|---|---|---|---|---|---|---|---|---|---|\n",
              "| 1 | 21 | 1½ | 2.5 | <!----> | FALSE | TRUE | <!----> | US 1½ - 2.5 mm | 2.5 |\n",
              "| 2 | 20 | 2½ | 3.0 | <!----> | FALSE | TRUE | <!----> | US 2½ - 3.0 mm | 3   |\n",
              "| 3 |  9 | 9  | 5.5 | <!----> | FALSE | TRUE | I | US 9  - 5.5 mm | 5.5 |\n",
              "\n",
              "\n",
              "\n",
              "\n"
            ],
            "text/plain": [
              "[[1]]\n",
              "  id us metric us_steel crochet knitting hook           name pretty_metric\n",
              "1 21 1½    2.5            FALSE     TRUE      US 1½ - 2.5 mm           2.5\n",
              "2 20 2½    3.0            FALSE     TRUE      US 2½ - 3.0 mm             3\n",
              "3  9 9     5.5            FALSE     TRUE    I US 9  - 5.5 mm           5.5\n"
            ]
          },
          "metadata": {},
          "output_type": "display_data"
        }
      ],
      "source": [
        "## Example:\n",
        "patterns_df_denest[5,24]\n",
        "\n",
        "## precleaning step:\n",
        "dim_accum <- c()\n",
        "for(i in 1:nrow(patterns_df_denest)){\n",
        "  each <- patterns_df_denest[i,24][[1]] %>% class()\n",
        "  dim_accum <- c(dim_accum,each)\n",
        "}\n",
        "patterns_df_denest_prep <- patterns_df_denest\n",
        "\n",
        "patterns_df_denest_prep$needle_check <- dim_accum\n",
        "\n",
        "## Unnesting\n",
        "patterns_df_denest1 <- patterns_df_denest_prep %>% \n",
        "  filter(dim_accum == \"data.frame\") %>%\n",
        "  unnest(pattern_needle_sizes, names_sep = \"_nested_\") %>%\n",
        "  distinct(id,permalink,.keep_all = TRUE) %>% select(-c(\n",
        "    \"pattern_needle_sizes_nested_id\",\"pattern_needle_sizes_nested_us_steel\",\"pattern_needle_sizes_nested_crochet\",\"pattern_needle_sizes_nested_knitting\",\"pattern_needle_sizes_nested_pretty_metric\",\"needle_check\" # removing the other redundant columns\n",
        "  ))"
      ]
    },
    {
      "cell_type": "markdown",
      "metadata": {},
      "source": [
        "#### Craft\n",
        "\n",
        "There is a similar process for craft which may also have the side effect of allowing us to remove some of the columns from the needles dataset. "
      ]
    },
    {
      "cell_type": "code",
      "execution_count": 6,
      "metadata": {
        "vscode": {
          "languageId": "r"
        }
      },
      "outputs": [
        {
          "data": {
            "text/html": [
              "<ol>\n",
              "\t<li><table class=\"dataframe\">\n",
              "<caption>A data.frame: 1 × 3</caption>\n",
              "<thead>\n",
              "\t<tr><th></th><th scope=col>id</th><th scope=col>name</th><th scope=col>permalink</th></tr>\n",
              "\t<tr><th></th><th scope=col>&lt;int&gt;</th><th scope=col>&lt;chr&gt;</th><th scope=col>&lt;chr&gt;</th></tr>\n",
              "</thead>\n",
              "<tbody>\n",
              "\t<tr><th scope=row>1</th><td>2</td><td>Knitting</td><td>knitting</td></tr>\n",
              "</tbody>\n",
              "</table>\n",
              "</li>\n",
              "</ol>\n"
            ],
            "text/latex": [
              "\\begin{enumerate}\n",
              "\\item A data.frame: 1 × 3\n",
              "\\begin{tabular}{r|lll}\n",
              "  & id & name & permalink\\\\\n",
              "  & <int> & <chr> & <chr>\\\\\n",
              "\\hline\n",
              "\t1 & 2 & Knitting & knitting\\\\\n",
              "\\end{tabular}\n",
              "\n",
              "\\end{enumerate}\n"
            ],
            "text/markdown": [
              "1. \n",
              "A data.frame: 1 × 3\n",
              "\n",
              "| <!--/--> | id &lt;int&gt; | name &lt;chr&gt; | permalink &lt;chr&gt; |\n",
              "|---|---|---|---|\n",
              "| 1 | 2 | Knitting | knitting |\n",
              "\n",
              "\n",
              "\n",
              "\n"
            ],
            "text/plain": [
              "[[1]]\n",
              "  id     name permalink\n",
              "1  2 Knitting  knitting\n"
            ]
          },
          "metadata": {},
          "output_type": "display_data"
        }
      ],
      "source": [
        "## Example\n",
        "patterns_df_denest1[3,28][[1]]\n",
        "\n",
        "patterns_df_denest2 <- patterns_df_denest1 %>% \n",
        "  unnest(craft, names_sep = \"_nested_\") %>%\n",
        "  distinct(id,permalink,.keep_all = TRUE) %>% select(-c(\n",
        "    \"craft_nested_id\",\"craft_nested_permalink\"\n",
        "  ))"
      ]
    },
    {
      "cell_type": "markdown",
      "metadata": {},
      "source": [
        "#### Pattern_type\n",
        "\n",
        "This is an important column to be able to separate out as well as this information will be acting as the main target column for all of the prediction datasets."
      ]
    },
    {
      "cell_type": "code",
      "execution_count": 7,
      "metadata": {
        "vscode": {
          "languageId": "r"
        }
      },
      "outputs": [
        {
          "data": {
            "text/html": [
              "<ol>\n",
              "\t<li><table class=\"dataframe\">\n",
              "<caption>A data.frame: 1 × 4</caption>\n",
              "<thead>\n",
              "\t<tr><th></th><th scope=col>clothing</th><th scope=col>id</th><th scope=col>name</th><th scope=col>permalink</th></tr>\n",
              "\t<tr><th></th><th scope=col>&lt;lgl&gt;</th><th scope=col>&lt;int&gt;</th><th scope=col>&lt;chr&gt;</th><th scope=col>&lt;chr&gt;</th></tr>\n",
              "</thead>\n",
              "<tbody>\n",
              "\t<tr><th scope=row>1</th><td>TRUE</td><td>4</td><td>Pullover</td><td>pullover</td></tr>\n",
              "</tbody>\n",
              "</table>\n",
              "</li>\n",
              "</ol>\n"
            ],
            "text/latex": [
              "\\begin{enumerate}\n",
              "\\item A data.frame: 1 × 4\n",
              "\\begin{tabular}{r|llll}\n",
              "  & clothing & id & name & permalink\\\\\n",
              "  & <lgl> & <int> & <chr> & <chr>\\\\\n",
              "\\hline\n",
              "\t1 & TRUE & 4 & Pullover & pullover\\\\\n",
              "\\end{tabular}\n",
              "\n",
              "\\end{enumerate}\n"
            ],
            "text/markdown": [
              "1. \n",
              "A data.frame: 1 × 4\n",
              "\n",
              "| <!--/--> | clothing &lt;lgl&gt; | id &lt;int&gt; | name &lt;chr&gt; | permalink &lt;chr&gt; |\n",
              "|---|---|---|---|---|\n",
              "| 1 | TRUE | 4 | Pullover | pullover |\n",
              "\n",
              "\n",
              "\n",
              "\n"
            ],
            "text/plain": [
              "[[1]]\n",
              "  clothing id     name permalink\n",
              "1     TRUE  4 Pullover  pullover\n"
            ]
          },
          "metadata": {},
          "output_type": "display_data"
        }
      ],
      "source": [
        "## Example\n",
        "patterns_df_denest2[6,31][[1]]\n",
        "\n",
        "patterns_df_denest3 <- patterns_df_denest2 %>% \n",
        "  unnest(pattern_type,names_sep = \"_nested_\") %>%\n",
        "  distinct(id,permalink,.keep_all = TRUE) %>% select(-c(\n",
        "    \"pattern_type_nested_id\",\"pattern_type_nested_name\",\"pattern_type_nested_clothing\"\n",
        "  ))"
      ]
    },
    {
      "cell_type": "markdown",
      "metadata": {},
      "source": [
        "We were successful although the naming convention may be changed later on as the names of the columns are fairly dense.\n",
        "\n",
        "#### Pattern_categories\n",
        "\n",
        "The pattern categories may not have as much importance later on as there are far too many categories although there may be room for visualizations in the categories. "
      ]
    },
    {
      "cell_type": "code",
      "execution_count": 8,
      "metadata": {
        "vscode": {
          "languageId": "r"
        }
      },
      "outputs": [
        {
          "data": {
            "text/html": [
              "'list'"
            ],
            "text/latex": [
              "'list'"
            ],
            "text/markdown": [
              "'list'"
            ],
            "text/plain": [
              "[1] \"list\""
            ]
          },
          "metadata": {},
          "output_type": "display_data"
        },
        {
          "data": {
            "text/html": [
              "96537"
            ],
            "text/latex": [
              "96537"
            ],
            "text/markdown": [
              "96537"
            ],
            "text/plain": [
              "[1] 96537"
            ]
          },
          "metadata": {},
          "output_type": "display_data"
        },
        {
          "data": {
            "text/html": [
              "96537"
            ],
            "text/latex": [
              "96537"
            ],
            "text/markdown": [
              "96537"
            ],
            "text/plain": [
              "[1] 96537"
            ]
          },
          "metadata": {},
          "output_type": "display_data"
        }
      ],
      "source": [
        "## Example\n",
        "patterns_df_denest3[[30277,29]][[1]] %>% class()\n",
        "\n",
        "#1:nrow(patterns_df_denest3)\n",
        "\n",
        "for(i in 1:nrow(patterns_df_denest3)){\n",
        "    piece <- patterns_df_denest3[[i,29]] \n",
        "    if(class(piece[[1]]) == \"data.frame\"){\n",
        "      piece <- piece %>%\n",
        "                  as.data.frame() %>%\n",
        "                  select(permalink,parent.permalink)\n",
        "      piece <- piece[1,]\n",
        "    }\n",
        "    else{\n",
        "      piece <- c(NA,NA) %>% t() %>% as.data.frame()\n",
        "      colnames(piece) = c(\"permalink\",\"parent.permalink\")\n",
        "    }\n",
        "                   \n",
        "    if(i == 1){\n",
        "      category_accum <- piece\n",
        "    } else{\n",
        "      category_accum <- rbind(category_accum,piece)\n",
        "    }\n",
        "}\n",
        "\n",
        "colnames(category_accum) <- c(\"category_permalink\",\"category_parent_permalink\")\n",
        "\n",
        "nrow(category_accum)\n",
        "nrow(patterns_df_denest3)\n",
        "\n",
        "## Joining\n",
        "patterns_df_denest4 <- cbind(patterns_df_denest3,category_accum) %>%\n",
        "                          select(-pattern_categories)"
      ]
    },
    {
      "cell_type": "markdown",
      "metadata": {},
      "source": [
        "#### Pattern_attributes\n",
        "\n",
        "Pattern attributes are another fairly difficult nested frame to consider as some patterns have multiple categories or categories are further nested. For this analysis I attempted it with the code below but have left it for future analysis."
      ]
    },
    {
      "cell_type": "code",
      "execution_count": null,
      "metadata": {
        "vscode": {
          "languageId": "r"
        }
      },
      "outputs": [],
      "source": [
        "## Example:\n",
        "patterns_df_denest4[[1,29]]\n",
        "\n",
        "## Getting list of attributes\n",
        "\n",
        "attributes_total <- c()\n",
        "for(i in 1:nrow(patterns_df_denest4)){\n",
        "  attributes <- patterns_df_denest4[[i,29]]$permalink\n",
        "  attributes_total <- c(attributes_total,attributes) %>% unique()\n",
        "}\n",
        "\n",
        "attributes_table <- data.frame(t(rep(NA,length(attributes_total))))\n",
        "colnames(attributes_table) <- attributes_total[order(attributes_total)]\n",
        "attributes_table <- attributes_table[-1,]\n",
        "attributes_table_og <- attributes_table\n",
        "\n",
        "for(i in 1:1){\n",
        "  print(i/21)\n",
        "  print(Sys.time())\n",
        "  attributes_table_i <- attributes_table_og\n",
        "  for(g in 1:(nrow(patterns_df_denest4)/21)){\n",
        "    print(g)\n",
        "    attributes <- patterns_df_denest4[[g,29]]$permalink\n",
        "    attributes_g <- data.frame(t(rep(1,length(attributes))))\n",
        "    colnames(attributes_g) <- attributes\n",
        "    attributes_table_i <- rbind.fill(attributes_table_i,attributes_g)\n",
        "  }\n",
        "  rbind(attributes_table,attributes_table_i)\n",
        "}\n"
      ]
    },
    {
      "cell_type": "markdown",
      "metadata": {},
      "source": [
        "## Type casting and column renaming\n",
        "\n",
        "Now that most of the nested dataframes have been unpacked, it's time to check for column types. Some of the values are characters when I want them to be Integers so I will be going through it all and getting the desired values. The names are also horrendous given the multiple rounds of unnesting so I will go through and adjust for relevance, finally reordering the columns for ease of use in the future."
      ]
    },
    {
      "cell_type": "code",
      "execution_count": null,
      "metadata": {
        "vscode": {
          "languageId": "r"
        }
      },
      "outputs": [],
      "source": [
        "patterns_denested <- patterns_df_denest4\n",
        "\n",
        "colnames(patterns_denested)\n",
        "\n",
        "colnames(patterns_denested)[24:31] <- c(\"needle_sizes_us\",\"needle_sizes_metric\",\"hook_size\",\"needle_sizes_name\",\"craft\",\"pattern_attributes\",\"pattern_type\",\"pattern_desc\")"
      ]
    },
    {
      "cell_type": "markdown",
      "metadata": {},
      "source": [
        "With the columns as they are we will now be shifting some of the columns to numeric measurements. Most columns are already in character form so the categorical or word based groups are not as important to adapt. The exception to this will be the yarn_weight_decription column as there are many names for sizes but no specific ranking so I will be grouping some of them together."
      ]
    },
    {
      "cell_type": "code",
      "execution_count": null,
      "metadata": {
        "vscode": {
          "languageId": "r"
        }
      },
      "outputs": [],
      "source": [
        "numeric_columns <- c(1,3,7,8,9,10,11,12,14,15,18,19,20,21,24)\n",
        "\n",
        "for(i in 1:ncol(patterns_denested)){\n",
        "  if(i %in% numeric_columns){\n",
        "    patterns_denested[,i] <- patterns_denested[,i] %>% as.numeric()\n",
        "  }\n",
        "}\n",
        "\n",
        "levels(factor(patterns_denested$yarn_weight_description))\n",
        "for(i in 1:nrow(patterns_denested)){\n",
        "  value <- patterns_denested[i,22]\n",
        "  if(value == \"Lace\"|value == \"Thread\"|value == \"Light Fingering\"){\n",
        "    patterns_denested[i,22] <- 0\n",
        "  } else if(value == \"Fingering (14 wpi)\"|value == \"Cobweb\"){\n",
        "    patterns_denested[i,22] <- 1\n",
        "  } else if(value == \"Sport (12 wpi)\"|value == \"DK / Sport\"){\n",
        "    patterns_denested[i,22] <- 2\n",
        "  }  else if(value == \"DK (11 wpi)\"| value == \"\"| value == \"Any gauge - designed for any gauge\"){\n",
        "    patterns_denested[i,22] <- 3\n",
        "  } else if(value == \"Aran / Worsted\"| value == \"Aran (8 wpi)\"|value == \"Worsted (9 wpi)\"){\n",
        "    patterns_denested[i,22] <- 4\n",
        "  } else if(value == \"Bulky (7 wpi)\"|value == \"Super Bulky (5-6 wpi)\"){\n",
        "    patterns_denested[i,22] <- 5\n",
        "  } else if(value == \"Jumbo (0-4 wpi)\"){\n",
        "    patterns_denested[i,22] <- 6\n",
        "  }\n",
        "}\n",
        "\n",
        "patterns_denested$yarn_weight_description <- patterns_denested$yarn_weight_description %>% as.numeric()"
      ]
    },
    {
      "cell_type": "markdown",
      "metadata": {},
      "source": [
        "## Conclusion\n",
        "\n",
        "The data has now been prepared for use in models. There will be further trimming done around outliers but that will be left to the exploratory data analysis tab where more understanding of the underlying phenomena can be found. Otherwise we have suitable columns for both target and predictor variables, categories which can represent the distribution of patterns available, and relevant information about patterns which can be used to better understand the dataset we have. \n",
        "\n",
        "The last step is to download the cleaned data set and begin analysis from there.\n",
        "\n",
        "## Downloading data sets"
      ]
    },
    {
      "cell_type": "code",
      "execution_count": null,
      "metadata": {
        "vscode": {
          "languageId": "r"
        }
      },
      "outputs": [],
      "source": [
        "patterns_df_denest_done <- patterns_denested %>% select(-pattern_attributes)\n",
        "write.csv(patterns_df_denest_done,\"../data/pattern_data_cleaned.csv\")"
      ]
    }
  ],
  "metadata": {
    "kernelspec": {
      "display_name": "R",
      "language": "R",
      "name": "ir"
    },
    "language_info": {
      "codemirror_mode": "r",
      "file_extension": ".r",
      "mimetype": "text/x-r-source",
      "name": "R",
      "pygments_lexer": "r",
      "version": "4.3.1"
    }
  },
  "nbformat": 4,
  "nbformat_minor": 4
}

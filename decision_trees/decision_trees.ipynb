{
 "cells": [
  {
   "cell_type": "markdown",
   "metadata": {},
   "source": [
    "---\n",
    "title: Decision Trees\n",
    "format:\n",
    "    html:\n",
    "        embed-resources: true\n",
    "        code-fold: true\n",
    "---"
   ]
  },
  {
   "cell_type": "markdown",
   "metadata": {},
   "source": [
    "## Introduction\n",
    "\n",
    "Similar to the Naive Bayes tab, I will be using decision trees to predict the types of patterns based off of the given information such as amount of yards, size of the needles, and gauge. I was only able to reach a predictive capability of 47% or so with the Naive Bayes model so I'm hoping to improve upon the predictive capability and make it better than a coin toss.\n",
    "\n",
    "## Methods\n",
    "Decision trees work by making splits in the data based off of a minimizing algorithm of the residual sum of squares. That's a mouthful, but it keeps making these decisions until it is able to categorize the data based off of the hyperparameters given.\n",
    "\n",
    "Decision trees are also a weak algorithm which means that each time a tree is run there will be slight differences in its arrangement. This also allows it to be used for more advanced machine learning methods such as boosting and bagging. I will later take a boosting, or random forest, approach to improve the predictive capability of the model.\n",
    "\n",
    "When discussing the hyperparameters of the decision trees, the main changes you can make are adjustments to the maximum depth of the tree, the threshold for splitting the data, and what features to use in the first place. I will be running another feature selection test to see what works best for decision trees. I will be mostly leaving the threshold for splitting data to the default values but I will be testing an optimal depth for the trees.\n",
    "\n",
    "To mention the boosting approach again, boosting works by accumulating trees with different splits and then taking the most likely results as the classifier. To be clear, these splits are not random and instead try to make up for the mistakes of the previous algorithms, this cumulative approach covers some of the weaknesses of decision trees to begin with.\n",
    "\n",
    "I look forward to seeing if this approach will be more impactful on the data and give better results."
   ]
  },
  {
   "cell_type": "code",
   "execution_count": 20,
   "metadata": {},
   "outputs": [],
   "source": [
    "import pandas as pd\n",
    "import seaborn as sns \n",
    "import matplotlib.pyplot as plt\n",
    "from sklearn import tree\n",
    "from IPython.display import Image\n",
    "import numpy as np\n",
    "from sklearn.metrics import accuracy_score\n",
    "import warnings\n",
    "warnings.filterwarnings('ignore')\n"
   ]
  },
  {
   "cell_type": "markdown",
   "metadata": {},
   "source": [
    "Below I have some more information about the data which is similarly covered in previous tabs."
   ]
  },
  {
   "cell_type": "code",
   "execution_count": 21,
   "metadata": {},
   "outputs": [
    {
     "data": {
      "text/plain": [
       "Index(['Unnamed: 0', 'comments_count', 'currency', 'price', 'currency_symbol',\n",
       "       'free', 'published', 'difficulty_average', 'favorites_count',\n",
       "       'projects_count', 'queued_projects_count', 'gauge', 'gauge_divisor',\n",
       "       'gauge_pattern', 'row_gauge', 'id', 'name', 'permalink',\n",
       "       'rating_average', 'rating_count', 'yardage', 'yardage_max',\n",
       "       'yarn_weight_description', 'yarn_weight', 'needle_sizes_us',\n",
       "       'needle_sizes_metric', 'hook_size', 'needle_sizes_name', 'craft',\n",
       "       'pattern_type', 'pattern_desc', 'category_permalink',\n",
       "       'category_parent_permalink', 'price_adjusted'],\n",
       "      dtype='object')"
      ]
     },
     "execution_count": 21,
     "metadata": {},
     "output_type": "execute_result"
    }
   ],
   "source": [
    "data = pd.read_csv(\"../data/pattern_data_updated.csv\")\n",
    "data.shape\n",
    "data.columns"
   ]
  },
  {
   "cell_type": "code",
   "execution_count": 22,
   "metadata": {},
   "outputs": [
    {
     "data": {
      "text/html": [
       "<div>\n",
       "<style scoped>\n",
       "    .dataframe tbody tr th:only-of-type {\n",
       "        vertical-align: middle;\n",
       "    }\n",
       "\n",
       "    .dataframe tbody tr th {\n",
       "        vertical-align: top;\n",
       "    }\n",
       "\n",
       "    .dataframe thead th {\n",
       "        text-align: right;\n",
       "    }\n",
       "</style>\n",
       "<table border=\"1\" class=\"dataframe\">\n",
       "  <thead>\n",
       "    <tr style=\"text-align: right;\">\n",
       "      <th></th>\n",
       "      <th>dtypes</th>\n",
       "      <th>min</th>\n",
       "      <th>mean</th>\n",
       "      <th>max</th>\n",
       "    </tr>\n",
       "  </thead>\n",
       "  <tbody>\n",
       "    <tr>\n",
       "      <th>Unnamed: 0</th>\n",
       "      <td>int64</td>\n",
       "      <td>1</td>\n",
       "      <td>4.815500e+04</td>\n",
       "      <td>96309</td>\n",
       "    </tr>\n",
       "    <tr>\n",
       "      <th>comments_count</th>\n",
       "      <td>int64</td>\n",
       "      <td>0</td>\n",
       "      <td>6.735549e+00</td>\n",
       "      <td>1509</td>\n",
       "    </tr>\n",
       "    <tr>\n",
       "      <th>currency</th>\n",
       "      <td>object</td>\n",
       "      <td>NaN</td>\n",
       "      <td>NaN</td>\n",
       "      <td>NaN</td>\n",
       "    </tr>\n",
       "    <tr>\n",
       "      <th>price</th>\n",
       "      <td>float64</td>\n",
       "      <td>0.0</td>\n",
       "      <td>7.597368e+00</td>\n",
       "      <td>1760.0</td>\n",
       "    </tr>\n",
       "    <tr>\n",
       "      <th>currency_symbol</th>\n",
       "      <td>object</td>\n",
       "      <td>NaN</td>\n",
       "      <td>NaN</td>\n",
       "      <td>NaN</td>\n",
       "    </tr>\n",
       "    <tr>\n",
       "      <th>free</th>\n",
       "      <td>object</td>\n",
       "      <td>False</td>\n",
       "      <td>3.130373e-01</td>\n",
       "      <td>True</td>\n",
       "    </tr>\n",
       "    <tr>\n",
       "      <th>published</th>\n",
       "      <td>object</td>\n",
       "      <td>NaN</td>\n",
       "      <td>NaN</td>\n",
       "      <td>NaN</td>\n",
       "    </tr>\n",
       "    <tr>\n",
       "      <th>difficulty_average</th>\n",
       "      <td>float64</td>\n",
       "      <td>0.0</td>\n",
       "      <td>2.055180e+00</td>\n",
       "      <td>8.75</td>\n",
       "    </tr>\n",
       "    <tr>\n",
       "      <th>favorites_count</th>\n",
       "      <td>int64</td>\n",
       "      <td>0</td>\n",
       "      <td>1.375928e+03</td>\n",
       "      <td>92747</td>\n",
       "    </tr>\n",
       "    <tr>\n",
       "      <th>projects_count</th>\n",
       "      <td>int64</td>\n",
       "      <td>0</td>\n",
       "      <td>1.207596e+02</td>\n",
       "      <td>39438</td>\n",
       "    </tr>\n",
       "    <tr>\n",
       "      <th>queued_projects_count</th>\n",
       "      <td>int64</td>\n",
       "      <td>0</td>\n",
       "      <td>1.677255e+02</td>\n",
       "      <td>13874</td>\n",
       "    </tr>\n",
       "    <tr>\n",
       "      <th>gauge</th>\n",
       "      <td>float64</td>\n",
       "      <td>0.0</td>\n",
       "      <td>1.964429e+01</td>\n",
       "      <td>99.99</td>\n",
       "    </tr>\n",
       "    <tr>\n",
       "      <th>gauge_divisor</th>\n",
       "      <td>float64</td>\n",
       "      <td>1.0</td>\n",
       "      <td>3.730453e+00</td>\n",
       "      <td>4.0</td>\n",
       "    </tr>\n",
       "    <tr>\n",
       "      <th>gauge_pattern</th>\n",
       "      <td>object</td>\n",
       "      <td>NaN</td>\n",
       "      <td>NaN</td>\n",
       "      <td>NaN</td>\n",
       "    </tr>\n",
       "    <tr>\n",
       "      <th>row_gauge</th>\n",
       "      <td>float64</td>\n",
       "      <td>0.0</td>\n",
       "      <td>2.635220e+01</td>\n",
       "      <td>99.99</td>\n",
       "    </tr>\n",
       "    <tr>\n",
       "      <th>id</th>\n",
       "      <td>float64</td>\n",
       "      <td>10.0</td>\n",
       "      <td>1.061431e+06</td>\n",
       "      <td>7285876.0</td>\n",
       "    </tr>\n",
       "    <tr>\n",
       "      <th>name</th>\n",
       "      <td>object</td>\n",
       "      <td>\" Little Star \" shoulder bag</td>\n",
       "      <td>NaN</td>\n",
       "      <td>﹤3-on-my Sleeves</td>\n",
       "    </tr>\n",
       "    <tr>\n",
       "      <th>permalink</th>\n",
       "      <td>object</td>\n",
       "      <td>---mr-tumnuss-leaf-scarf</td>\n",
       "      <td>NaN</td>\n",
       "      <td>zyperngras</td>\n",
       "    </tr>\n",
       "    <tr>\n",
       "      <th>rating_average</th>\n",
       "      <td>float64</td>\n",
       "      <td>0.0</td>\n",
       "      <td>3.141943e+00</td>\n",
       "      <td>5.0</td>\n",
       "    </tr>\n",
       "    <tr>\n",
       "      <th>rating_count</th>\n",
       "      <td>int64</td>\n",
       "      <td>0</td>\n",
       "      <td>3.526073e+01</td>\n",
       "      <td>9516</td>\n",
       "    </tr>\n",
       "    <tr>\n",
       "      <th>yardage</th>\n",
       "      <td>float64</td>\n",
       "      <td>0.0</td>\n",
       "      <td>5.559181e+02</td>\n",
       "      <td>5000.0</td>\n",
       "    </tr>\n",
       "    <tr>\n",
       "      <th>yardage_max</th>\n",
       "      <td>float64</td>\n",
       "      <td>0.0</td>\n",
       "      <td>8.351688e+02</td>\n",
       "      <td>5000.0</td>\n",
       "    </tr>\n",
       "    <tr>\n",
       "      <th>yarn_weight_description</th>\n",
       "      <td>int64</td>\n",
       "      <td>0</td>\n",
       "      <td>2.677486e+00</td>\n",
       "      <td>6</td>\n",
       "    </tr>\n",
       "    <tr>\n",
       "      <th>yarn_weight</th>\n",
       "      <td>float64</td>\n",
       "      <td>NaN</td>\n",
       "      <td>NaN</td>\n",
       "      <td>NaN</td>\n",
       "    </tr>\n",
       "    <tr>\n",
       "      <th>needle_sizes_us</th>\n",
       "      <td>float64</td>\n",
       "      <td>0.0</td>\n",
       "      <td>5.807764e+00</td>\n",
       "      <td>50.0</td>\n",
       "    </tr>\n",
       "    <tr>\n",
       "      <th>needle_sizes_metric</th>\n",
       "      <td>float64</td>\n",
       "      <td>0.6</td>\n",
       "      <td>4.117480e+00</td>\n",
       "      <td>25.0</td>\n",
       "    </tr>\n",
       "    <tr>\n",
       "      <th>hook_size</th>\n",
       "      <td>object</td>\n",
       "      <td>NaN</td>\n",
       "      <td>NaN</td>\n",
       "      <td>NaN</td>\n",
       "    </tr>\n",
       "    <tr>\n",
       "      <th>needle_sizes_name</th>\n",
       "      <td>object</td>\n",
       "      <td>0.6 mm</td>\n",
       "      <td>NaN</td>\n",
       "      <td>US 9  - 5.5 mm</td>\n",
       "    </tr>\n",
       "    <tr>\n",
       "      <th>craft</th>\n",
       "      <td>object</td>\n",
       "      <td>Crochet</td>\n",
       "      <td>NaN</td>\n",
       "      <td>Machine Knitting</td>\n",
       "    </tr>\n",
       "    <tr>\n",
       "      <th>pattern_type</th>\n",
       "      <td>object</td>\n",
       "      <td>baby</td>\n",
       "      <td>NaN</td>\n",
       "      <td>vest</td>\n",
       "    </tr>\n",
       "    <tr>\n",
       "      <th>pattern_desc</th>\n",
       "      <td>object</td>\n",
       "      <td>NaN</td>\n",
       "      <td>NaN</td>\n",
       "      <td>NaN</td>\n",
       "    </tr>\n",
       "    <tr>\n",
       "      <th>category_permalink</th>\n",
       "      <td>object</td>\n",
       "      <td>NaN</td>\n",
       "      <td>NaN</td>\n",
       "      <td>NaN</td>\n",
       "    </tr>\n",
       "    <tr>\n",
       "      <th>category_parent_permalink</th>\n",
       "      <td>object</td>\n",
       "      <td>NaN</td>\n",
       "      <td>NaN</td>\n",
       "      <td>NaN</td>\n",
       "    </tr>\n",
       "    <tr>\n",
       "      <th>price_adjusted</th>\n",
       "      <td>float64</td>\n",
       "      <td>0.0</td>\n",
       "      <td>3.950653e+00</td>\n",
       "      <td>20.0</td>\n",
       "    </tr>\n",
       "  </tbody>\n",
       "</table>\n",
       "</div>"
      ],
      "text/plain": [
       "                            dtypes                           min  \\\n",
       "Unnamed: 0                   int64                             1   \n",
       "comments_count               int64                             0   \n",
       "currency                    object                           NaN   \n",
       "price                      float64                           0.0   \n",
       "currency_symbol             object                           NaN   \n",
       "free                        object                         False   \n",
       "published                   object                           NaN   \n",
       "difficulty_average         float64                           0.0   \n",
       "favorites_count              int64                             0   \n",
       "projects_count               int64                             0   \n",
       "queued_projects_count        int64                             0   \n",
       "gauge                      float64                           0.0   \n",
       "gauge_divisor              float64                           1.0   \n",
       "gauge_pattern               object                           NaN   \n",
       "row_gauge                  float64                           0.0   \n",
       "id                         float64                          10.0   \n",
       "name                        object  \" Little Star \" shoulder bag   \n",
       "permalink                   object      ---mr-tumnuss-leaf-scarf   \n",
       "rating_average             float64                           0.0   \n",
       "rating_count                 int64                             0   \n",
       "yardage                    float64                           0.0   \n",
       "yardage_max                float64                           0.0   \n",
       "yarn_weight_description      int64                             0   \n",
       "yarn_weight                float64                           NaN   \n",
       "needle_sizes_us            float64                           0.0   \n",
       "needle_sizes_metric        float64                           0.6   \n",
       "hook_size                   object                           NaN   \n",
       "needle_sizes_name           object                        0.6 mm   \n",
       "craft                       object                       Crochet   \n",
       "pattern_type                object                          baby   \n",
       "pattern_desc                object                           NaN   \n",
       "category_permalink          object                           NaN   \n",
       "category_parent_permalink   object                           NaN   \n",
       "price_adjusted             float64                           0.0   \n",
       "\n",
       "                                   mean               max  \n",
       "Unnamed: 0                 4.815500e+04             96309  \n",
       "comments_count             6.735549e+00              1509  \n",
       "currency                            NaN               NaN  \n",
       "price                      7.597368e+00            1760.0  \n",
       "currency_symbol                     NaN               NaN  \n",
       "free                       3.130373e-01              True  \n",
       "published                           NaN               NaN  \n",
       "difficulty_average         2.055180e+00              8.75  \n",
       "favorites_count            1.375928e+03             92747  \n",
       "projects_count             1.207596e+02             39438  \n",
       "queued_projects_count      1.677255e+02             13874  \n",
       "gauge                      1.964429e+01             99.99  \n",
       "gauge_divisor              3.730453e+00               4.0  \n",
       "gauge_pattern                       NaN               NaN  \n",
       "row_gauge                  2.635220e+01             99.99  \n",
       "id                         1.061431e+06         7285876.0  \n",
       "name                                NaN  ﹤3-on-my Sleeves  \n",
       "permalink                           NaN        zyperngras  \n",
       "rating_average             3.141943e+00               5.0  \n",
       "rating_count               3.526073e+01              9516  \n",
       "yardage                    5.559181e+02            5000.0  \n",
       "yardage_max                8.351688e+02            5000.0  \n",
       "yarn_weight_description    2.677486e+00                 6  \n",
       "yarn_weight                         NaN               NaN  \n",
       "needle_sizes_us            5.807764e+00              50.0  \n",
       "needle_sizes_metric        4.117480e+00              25.0  \n",
       "hook_size                           NaN               NaN  \n",
       "needle_sizes_name                   NaN    US 9  - 5.5 mm  \n",
       "craft                               NaN  Machine Knitting  \n",
       "pattern_type                        NaN              vest  \n",
       "pattern_desc                        NaN               NaN  \n",
       "category_permalink                  NaN               NaN  \n",
       "category_parent_permalink           NaN               NaN  \n",
       "price_adjusted             3.950653e+00              20.0  "
      ]
     },
     "execution_count": 22,
     "metadata": {},
     "output_type": "execute_result"
    }
   ],
   "source": [
    "df_info = pd.concat([data.dtypes,data.min(),data.mean(),data.max()],axis = 1)\n",
    "df_info.rename(columns = {0:\"dtypes\",1:\"min\",2:\"mean\",3:\"max\"},inplace = True)\n",
    "df_info"
   ]
  },
  {
   "cell_type": "markdown",
   "metadata": {},
   "source": [
    "## Class Distribution\n",
    "\n",
    "I will be doing a 80-20 train-test split for my data and using my features to predict the type of pattern, the extent of which is listed below. Having a target column with so many values is limiting the impact of the model itself but I believe that this application will have more impact than guessing whether or not a pattern was free for instance. There are also some pattern groups which are heavily over or underrepresented which could skew results to some extent. For instance there are very few jackets and tens of thousands of hats. I will see if this has an effect and see if this model type will be effective."
   ]
  },
  {
   "cell_type": "code",
   "execution_count": 23,
   "metadata": {},
   "outputs": [
    {
     "data": {
      "text/plain": [
       "shawl         14261\n",
       "pullover      12403\n",
       "hat           12205\n",
       "socks         11989\n",
       "gloves         5641\n",
       "cardigan       5567\n",
       "child          4960\n",
       "toys           4564\n",
       "scarf          4159\n",
       "other          3526\n",
       "home           3418\n",
       "baby           3308\n",
       "blanket        2876\n",
       "tee            1671\n",
       "camisole       1598\n",
       "bag            1134\n",
       "dishcloth      1047\n",
       "vest            790\n",
       "pet             533\n",
       "dress-suit      194\n",
       "shrug           182\n",
       "jacket          175\n",
       "skirt            93\n",
       "naughty          15\n",
       "Name: pattern_type, dtype: int64"
      ]
     },
     "execution_count": 23,
     "metadata": {},
     "output_type": "execute_result"
    }
   ],
   "source": [
    "data['pattern_type'].value_counts()"
   ]
  },
  {
   "cell_type": "code",
   "execution_count": 24,
   "metadata": {},
   "outputs": [
    {
     "name": "stdout",
     "output_type": "stream",
     "text": [
      "<class 'pandas.core.frame.DataFrame'> (77047, 4)\n",
      "<class 'pandas.core.frame.DataFrame'> (77047, 1)\n",
      "<class 'pandas.core.frame.DataFrame'> (19262, 4)\n",
      "<class 'pandas.core.frame.DataFrame'> (19262, 1)\n"
     ]
    }
   ],
   "source": [
    "X = data[[\"yardage\",\"yardage_max\",\"gauge\",\"needle_sizes_us\"]]\n",
    "Y = data[[\"pattern_type\"]]\n",
    "\n",
    "from sklearn.model_selection import train_test_split\n",
    "x_train,x_test,y_train,y_test = train_test_split(X,Y,test_size = .2,random_state = 1)\n",
    "\n",
    "print(type(x_train), x_train.shape)\n",
    "print(type(y_train), y_train.shape)\n",
    "print(type(x_test), x_test.shape)\n",
    "print(type(y_test), y_test.shape)\n"
   ]
  },
  {
   "cell_type": "markdown",
   "metadata": {},
   "source": [
    "## Baseline Model\n",
    "\n",
    "I will be running a single decision tree with 4 classifers as a baseline model without any boosting or hyperparameter tuning in order to show the expected results."
   ]
  },
  {
   "cell_type": "code",
   "execution_count": 25,
   "metadata": {},
   "outputs": [],
   "source": [
    "from sklearn import tree\n",
    "from sklearn.metrics import classification_report\n",
    "\n",
    "model = tree.DecisionTreeClassifier()\n",
    "model = model.fit(x_train,y_train)\n",
    "yp_train = model.predict(x_train)\n",
    "yp_test = model.predict(x_test)\n"
   ]
  },
  {
   "cell_type": "code",
   "execution_count": 26,
   "metadata": {},
   "outputs": [
    {
     "name": "stdout",
     "output_type": "stream",
     "text": [
      "0.5263670227263878\n",
      "0.4508358425916312\n"
     ]
    }
   ],
   "source": [
    "\n",
    "print(classification_report(y_train,yp_train,output_dict=True)['accuracy'])\n",
    "print(classification_report(y_test,yp_test,output_dict=True)['accuracy'])\n"
   ]
  },
  {
   "cell_type": "markdown",
   "metadata": {},
   "source": [
    "Looking at the accuracy values for the training and test sets we can see that this model has about equal performance to the Naive Bayes model in this state. The training set is only able to achieve a predictive capability of 52% percent which is incredibly low for a trained model but on par for this data. To follow this, there may be some overfitting to the training set as the test data is only 45 percent accurate. This could also be due to misfitting with the large number of variables but that drop between the two is fairly harrowing. I'll now take some time to pick strong hyperparameters and boost this model.\n",
    "\n",
    "## Feature Selection\n",
    "\n",
    "For feature selection I'm planning on doing a test for maximum depth and also for feature selection. I noticed feature selection changed alot model by model so what was needed for decision trees might be different than the optimal ones for the naive bayes models. I will print out the best subset for reference."
   ]
  },
  {
   "cell_type": "code",
   "execution_count": 27,
   "metadata": {},
   "outputs": [],
   "source": [
    "def train_DT_model(X,Y,i_print=False):\n",
    "\n",
    "    if(i_print):\n",
    "        print(X.shape,Y.shape)\n",
    "\n",
    "    x_train,x_test,y_train,y_test = train_test_split(X,Y,test_size = .2,random_state = 1)\n",
    "\n",
    "    # INITIALIZE MODEL \n",
    "    model = tree.DecisionTreeClassifier()\n",
    "\n",
    "    # TRAIN MODEL \n",
    "    model.fit(x_train,y_train)\n",
    "\n",
    "    # LABEL PREDICTIONS FOR TRAINING AND TEST SET \n",
    "    yp_train = model.predict(x_train)\n",
    "    yp_test = model.predict(x_test)\n",
    "\n",
    "    acc_train= accuracy_score(y_train, yp_train)*100\n",
    "    acc_test= accuracy_score(y_test, yp_test)*100\n",
    "\n",
    "    if(i_print):\n",
    "        print(acc_train,acc_test)\n",
    "\n",
    "    return (acc_train,acc_test)"
   ]
  },
  {
   "cell_type": "code",
   "execution_count": 28,
   "metadata": {},
   "outputs": [
    {
     "name": "stdout",
     "output_type": "stream",
     "text": [
      "['price', 'gauge', 'gauge_divisor', 'row_gauge', 'rating_count', 'yardage', 'yardage_max', 'yarn_weight_description', 'needle_sizes_metric']\n"
     ]
    }
   ],
   "source": [
    "x = data[[\"price\",\n",
    "        \"free\",\n",
    "        \"difficulty_average\",\n",
    "        \"gauge\",\"gauge_divisor\",\"row_gauge\",\n",
    "        \"rating_average\",\"rating_count\",\n",
    "        \"yardage\",\"yardage_max\",\n",
    "        \"yarn_weight_description\",\n",
    "        \"needle_sizes_metric\",\n",
    "        \"pattern_type\"]].dropna()\n",
    "y = x[\"pattern_type\"]\n",
    "x.drop(\"pattern_type\",inplace = True,axis = 1)\n",
    "x[\"free\"] = x[\"free\"].astype(\"category\")\n",
    "\n",
    "import itertools\n",
    "\n",
    "subsets = []\n",
    "list1 = [*range(1,x.shape[1])]; #print(list1)\n",
    "\n",
    "train_accs_g = []\n",
    "test_accs_g = []\n",
    "num_features_g = []\n",
    "best_test_acc_g = 0\n",
    "\n",
    "# x.shape[1]+1\n",
    "for l in range(1,x.shape[1]+1):\n",
    "    for subset in itertools.combinations(x.columns, l):\n",
    "        train_acc, test_acc = train_DT_model(x.loc[:,list(subset)],y)\n",
    "        train_accs_g.append(train_acc)\n",
    "        test_accs_g.append(test_acc)\n",
    "        num_features_g.append(len(list(subset)))\n",
    "        if test_acc > best_test_acc_g:\n",
    "            best_test_acc_g = test_acc\n",
    "            best_subset_g = list(subset)\n",
    "\n",
    "print(best_subset_g)\n"
   ]
  },
  {
   "cell_type": "markdown",
   "metadata": {},
   "source": [
    "Given this optimal set, I will be checking for the accuracy across many different maximum ranges to see if there is a point where the tree becomes overfitted to the data. Lowering the max depth will also help speed up the boosting process."
   ]
  },
  {
   "cell_type": "code",
   "execution_count": 29,
   "metadata": {},
   "outputs": [
    {
     "data": {
      "text/plain": [
       "Text(0, 0.5, 'ACCURACY (Y=0): Training (blue) and Test (red)')"
      ]
     },
     "execution_count": 29,
     "metadata": {},
     "output_type": "execute_result"
    },
    {
     "data": {
      "image/png": "[encoded data removed]",
      "text/plain": [
       "<Figure size 640x480 with 1 Axes>"
      ]
     },
     "metadata": {},
     "output_type": "display_data"
    }
   ],
   "source": [
    "test_results=[]\n",
    "train_results=[]\n",
    "\n",
    "from sklearn.model_selection import train_test_split\n",
    "x_train,x_test,y_train,y_test = train_test_split(data[best_subset_g],Y,test_size = .2,random_state = 1)\n",
    "\n",
    "for num_layer in range(1,30):\n",
    "    model = tree.DecisionTreeClassifier(max_depth=num_layer)\n",
    "    model = model.fit(x_train,y_train)\n",
    "\n",
    "    yp_train=model.predict(x_train)\n",
    "    yp_test=model.predict(x_test)\n",
    "\n",
    "    test_results.append([num_layer,accuracy_score(y_test, yp_test)])\n",
    "    train_results.append([num_layer,accuracy_score(y_train, yp_train)])\n",
    "\n",
    "test_df = pd.DataFrame(test_results)\n",
    "train_df = pd.DataFrame(train_results)\n",
    "\n",
    "plt.plot(train_df.iloc[:,0],train_df.iloc[:,1],\"o-b\")\n",
    "plt.plot(test_df.iloc[:,0],test_df.iloc[:,1],\"o-r\")\n",
    "\n",
    "plt.xlabel(\"Number of Layers in decision tree\")\n",
    "plt.ylabel(\"ACCURACY (Y=0): Training (blue) and Test (red)\")"
   ]
  },
  {
   "cell_type": "markdown",
   "metadata": {},
   "source": [
    "From looking at the graph, there are deviations in the accuracy of the training and testing data around 7 layers and widens a bit until splitting upward and downwards after 8. This implies that 8 as a depth works best in order to maximize the accuracy of the testing data set and avoid overfitting. We can see that as the maximum depth increases the training accuracy increases concurrently but after a certain point the testing accuracy starts decreasing, this is a pretty good indicator that there is overfitting and is a pretty good visualization of its perils. So, going forward I will be using a max depth of 8 layers. I will quickly rerun the base model to show the benefits."
   ]
  },
  {
   "cell_type": "code",
   "execution_count": 30,
   "metadata": {},
   "outputs": [
    {
     "name": "stdout",
     "output_type": "stream",
     "text": [
      "0.47336041636922915\n",
      "0.46537223548956497\n"
     ]
    }
   ],
   "source": [
    "from sklearn import tree\n",
    "from sklearn.metrics import classification_report\n",
    "\n",
    "model = tree.DecisionTreeClassifier(max_depth = 8)\n",
    "model = model.fit(x_train,y_train)\n",
    "yp_train = model.predict(x_train)\n",
    "yp_test = model.predict(x_test)\n",
    "\n",
    "print(classification_report(y_train,yp_train,output_dict=True)['accuracy'])\n",
    "print(classification_report(y_test,yp_test,output_dict=True)['accuracy'])"
   ]
  },
  {
   "cell_type": "markdown",
   "metadata": {},
   "source": [
    "The testing accuracy rose to 46% while the testing accuracy remained similar. This is fine though and a definite improvement on the other data set, especially with the test and training accuracies being more similar. I will no go forward with the Random Forest method to try to improve this value and increase the accuracy of both of the datasets.\n",
    "\n",
    "## Random Forest Trial\n",
    "I'm going to jump right into the Random Forest. I'll start by testing hyperparameters out of curiosity then I'm going to use that value to get the best prediction for the test data. I also found around 100 trees to be sufficient with more than that giving similar results for longer runtimes."
   ]
  },
  {
   "cell_type": "code",
   "execution_count": 31,
   "metadata": {},
   "outputs": [
    {
     "data": {
      "text/plain": [
       "Text(0, 0.5, 'ACCURACY (Y=0): Training (blue) and Test (red)')"
      ]
     },
     "execution_count": 31,
     "metadata": {},
     "output_type": "execute_result"
    },
    {
     "data": {
      "image/png": "[encoded data removed]",
      "text/plain": [
       "<Figure size 640x480 with 1 Axes>"
      ]
     },
     "metadata": {},
     "output_type": "display_data"
    }
   ],
   "source": [
    "from sklearn.ensemble import RandomForestClassifier\n",
    "\n",
    "X = data[best_subset_g]\n",
    "X[\"pattern_type\"] = data[\"pattern_type\"]\n",
    "\n",
    "X = X.dropna()\n",
    "\n",
    "Y = X[[\"pattern_type\"]]\n",
    "X = X.drop(\"pattern_type\",axis = 1)\n",
    "\n",
    "from sklearn.model_selection import train_test_split\n",
    "x_train,x_test,y_train,y_test = train_test_split(X,Y,test_size = .2,random_state = 1)\n",
    "\n",
    "test_results=[]\n",
    "train_results=[]\n",
    "\n",
    "for i in range(1,25):\n",
    "    num_layer = i\n",
    "    clf = RandomForestClassifier(max_depth = i, n_estimators= 100, random_state=0)\n",
    "    clf.fit(x_train,y_train.to_numpy())\n",
    "    yp_train = clf.predict(x_train)\n",
    "    yp_test = clf.predict(x_test)\n",
    "\n",
    "    test_results.append([num_layer,accuracy_score(y_test, yp_test)])\n",
    "    train_results.append([num_layer,accuracy_score(y_train, yp_train)])\n",
    "\n",
    "test_df = pd.DataFrame(test_results)\n",
    "train_df = pd.DataFrame(train_results)\n",
    "\n",
    "plt.plot(train_df.iloc[:,0],train_df.iloc[:,1],\"o-b\")\n",
    "plt.plot(test_df.iloc[:,0],test_df.iloc[:,1],\"o-r\")\n",
    "\n",
    "plt.xlabel(\"Number of Layers in decision tree\")\n",
    "plt.ylabel(\"ACCURACY (Y=0): Training (blue) and Test (red)\")\n",
    "\n"
   ]
  },
  {
   "cell_type": "markdown",
   "metadata": {},
   "source": [
    "So it is looking like roughly 15 as a max depth is best for test accuracy in the random forest, there are marginal increases but I'm valuing closeness between the test and training models. I think I will use a dept of around 12. The difference between test and train might be different but I'm hoping it will improve the test overall. Now to see the accuracy at that amount I will run a final random forest."
   ]
  },
  {
   "cell_type": "code",
   "execution_count": 32,
   "metadata": {},
   "outputs": [
    {
     "name": "stdout",
     "output_type": "stream",
     "text": [
      "0.6482692162346005\n",
      "0.5541531252361878\n"
     ]
    }
   ],
   "source": [
    "x_train,x_test,y_train,y_test = train_test_split(X,Y,test_size = .2,random_state = 1)\n",
    "\n",
    "clf = RandomForestClassifier(max_depth = 12, n_estimators= 500, random_state=0)\n",
    "clf.fit(x_train,y_train)\n",
    "yp_train = clf.predict(x_train)\n",
    "yp_test = clf.predict(x_test)\n",
    "\n",
    "print(classification_report(y_train,yp_train,output_dict=True)['accuracy'])\n",
    "print(classification_report(y_test,yp_test,output_dict=True)['accuracy'])"
   ]
  },
  {
   "cell_type": "markdown",
   "metadata": {},
   "source": [
    "Alright, there was some improvement with 55 percent accuracy which is better than the decision tree but not quite as high as I would hope overall. Anyhow, this isn't the worst but it is a bit disappointing showing for random forests in this case, only improving the model by 10% accuracy.\n",
    "\n",
    "## Final results\n",
    "\n",
    "So after fitting the model, hyperparameter tuning, and boosting. We managed to up the baseline of 46% accuracy to 55% which does meet a coinflip criteria but isn't as good as I would have hoped. This is pretty low but I think the best thing to do is recheck the data to increase the amount of rows and the accuracy of the data. There seems to be a pretty hard cap here which cannot be breached without more and better data. Overfitting clearly becomes a problem after 50% or so that may be something to watch out for.\n",
    "\n",
    "## Conclusions\n",
    "\n",
    "Decision trees are a very interesting classifying method which take a branching and hierarchical approach in comparison to the other more optimization focused models. I personally made it my task to use classifying random forests to try to predict the type of a pattern based on some sample pattern information and was succesful at improving upon previous methods.\n",
    "\n",
    "I was marginally successful in my analysis with a slightly better than coin flip success rate. This means that given the information about a knitting pattern there is a 55% chance that the algorithm guesses the type of pattern correctly. This wouldn't fly in a market setting as there is still way too much variability but I still consider it a success as it would be hard to even reach half that success rate just using human intuition. Random forests were also able to improve upon the previous record which shows the value of the model in the larger context.\n"
   ]
  }
 ],
 "metadata": {
  "kernelspec": {
   "display_name": "base",
   "language": "python",
   "name": "python3"
  },
  "language_info": {
   "codemirror_mode": {
    "name": "ipython",
    "version": 3
   },
   "file_extension": ".py",
   "mimetype": "text/x-python",
   "name": "python",
   "nbconvert_exporter": "python",
   "pygments_lexer": "ipython3",
   "version": "3.11.4"
  }
 },
 "nbformat": 4,
 "nbformat_minor": 2
}
